{
 "cells": [
  {
   "cell_type": "markdown",
   "id": "d849778d",
   "metadata": {},
   "source": [
    "# Gaussian/ Normal Distribution\n",
    "\n",
    "\n",
    "\n",
    "The Gaussian or normal distribution is a probability model used to describe many random variables and phenomena, the frequency of whose values follow a bell-shaped pattern. The normal distribution can be specified using two parameters, a mean and standard deviation, and is often referred to as a parameteric probability distribution. The normal distribution is the probability model that underpins many commonly used statistical tests, the so-called parametric statistical tests, that form the basis of null-hypothesis signficance testing.\n",
    "\n",
    "As stated above, the normal distribution takes on the iconic bell-shape that is symmetrical around the mean. Most of the scores/values are clustered close to the mean with more rare scores/ values the further away you get from the mean. As the normal distribution has been studied extensively by statisticians its properites are well understood and it can be used as a model for discrete and continuous variables. Probabilities for the distribution can be crudely summarised using what is known as the empirical rule which tells us that approximately 68% of scores lie between -1 and +1 standard deviations of the mean, 96% between -2 and +2 standard deviations of the mean, and about 99.7% of scores lie between -3 and +3 standard deviations of the mean. This property has proved useful for frequentist statistical methods, such as null-hypothesis statistical testing, as it allows us to calculate that 95% of scores will lie between -1.96 and +1.96 standard deviations of the mean. As the conventional level of statistical signficance for frequentist statistical tests is often set at the 5% level (p<=0.05), this provides a useful way to identify when scores or differences between groups are sufficiently rare that we would only expect to see them about 5% of the time, if the null-hypothesis is true. The results are then viewed as having reached the threshold for statistical signficance, an inverse measure of support for the null hypothesis. Such an approach assumes the data is sampled from a normally distributed population for the variable of interest and the Gaussian is thereby an appropriate probability model to use.\n",
    "\n",
    "In this notebook I will demonstrate how to generate/ simulate data that follows a normal distribution and show how to plot the data, obtain parameters for the data (mean, standard deviation), obtain probabilities of scores between given intervals of values using a Probability Density Function (pdf), obtain the probability that a variable has a value of x or lower (or higher) using the Cumulative Distribution Function (cdf), and inversely obtain a given value that is not exceeded a certain percentage of the time using the Percentage Point Function (ppf)."
   ]
  },
  {
   "cell_type": "code",
   "execution_count": 1,
   "id": "f505f14e",
   "metadata": {},
   "outputs": [],
   "source": [
    "# Importing key software libraries.\n",
    "\n",
    "import pandas as pd\n",
    "import numpy as np\n",
    "import matplotlib.pyplot as plt\n",
    "from scipy.stats import norm\n",
    "import seaborn as sns"
   ]
  },
  {
   "cell_type": "markdown",
   "id": "1e20c892",
   "metadata": {},
   "source": [
    "### Generating data that follows a normal distribution using numpy (np.random.normal)"
   ]
  },
  {
   "cell_type": "markdown",
   "id": "7fe7e12b",
   "metadata": {},
   "source": [
    "The numpy.random.normal function takes the following arguments as inputs:\n",
    "\n",
    "- loc: The mean (the centre) of the random sample.\n",
    "- scale: The Standard Deviation (SD) (the spread) of the random sample. This should be a non-negative value.\n",
    "- size: The size of the random sample. How many rows/ participants you want in the sample."
   ]
  },
  {
   "cell_type": "code",
   "execution_count": 2,
   "id": "6093e98a",
   "metadata": {},
   "outputs": [
    {
     "data": {
      "text/plain": [
       "array([4.29676343, 4.73503328, 5.49415485, 5.80335209, 5.72141324,\n",
       "       4.62340451, 5.61345347, 3.49945145, 4.57317934, 5.59142368,\n",
       "       5.98683886, 4.551843  , 4.10909472, 5.89829452, 4.74104256,\n",
       "       5.45844988, 5.50313446, 2.77274787, 5.61149715, 5.78673075,\n",
       "       4.25567345, 5.91982156, 5.42704869, 6.33247228, 4.86789077,\n",
       "       5.80809721, 4.81576144, 5.84178031, 4.2293078 , 5.135947  ,\n",
       "       6.40815562, 4.24597507, 6.87607407, 6.00748355, 4.78760454,\n",
       "       4.1434888 , 6.1276583 , 4.01007924, 6.68485465, 4.53891761,\n",
       "       5.20555511, 4.77325552, 4.98258297, 4.3446941 , 3.53221155,\n",
       "       5.41686944, 4.41438571, 4.78908717, 6.32963838, 6.2414135 ,\n",
       "       4.72667814, 6.00210162, 4.14949595, 5.53716272, 3.66039694,\n",
       "       5.06173527, 4.57394138, 5.3110863 , 4.58482167, 5.30429156,\n",
       "       5.17252739, 4.74619069, 6.63017263, 3.51944215, 3.11098044,\n",
       "       4.47011365, 4.81272586, 4.55743822, 6.37301253, 4.38209577,\n",
       "       6.67273225, 7.62483812, 6.75707973, 4.85779196, 3.31262985,\n",
       "       4.76465894, 3.95942614, 5.99642455, 3.15897878, 5.54229154,\n",
       "       4.23528582, 4.8461071 , 4.94483651, 6.31403786, 6.33116443,\n",
       "       4.66756337, 5.61731515, 3.88848106, 4.69479559, 3.52860653,\n",
       "       5.21037396, 4.45878614, 4.40447306, 4.69153288, 5.6544155 ,\n",
       "       6.19947884, 4.70852376, 4.48431405, 5.63038368, 4.62079442])"
      ]
     },
     "execution_count": 2,
     "metadata": {},
     "output_type": "execute_result"
    }
   ],
   "source": [
    "# Generating a normal distribution. Here the parameters/ arguments are:\n",
    "# loc (the mean), scale (the standard deviation), and size (no of datapoints/ participants).\n",
    "\n",
    "normal_dist = np.random.normal(loc = 5, scale = 1, size = 100)\n",
    "\n",
    "normal_dist"
   ]
  },
  {
   "cell_type": "markdown",
   "id": "0c9918c0",
   "metadata": {},
   "source": [
    "Above I have generated a numpy array (variable) consisting of 100 datapoints with a mean of 5 and standard deviation of 1. This is not a particularly large number of datapoints but we can plot them using a histogram to see their distribution. "
   ]
  },
  {
   "cell_type": "code",
   "execution_count": 3,
   "id": "f6b629bd",
   "metadata": {},
   "outputs": [
    {
     "data": {
      "text/plain": [
       "<AxesSubplot:ylabel='Count'>"
      ]
     },
     "execution_count": 3,
     "metadata": {},
     "output_type": "execute_result"
    },
    {
     "data": {
      "image/png": "[encoded data removed]",
      "text/plain": [
       "<Figure size 432x288 with 1 Axes>"
      ]
     },
     "metadata": {
      "needs_background": "light"
     },
     "output_type": "display_data"
    }
   ],
   "source": [
    "# Plotting the distibution as a histogram using the seaborn library. \n",
    "sns.histplot(normal_dist)"
   ]
  },
  {
   "cell_type": "markdown",
   "id": "870b70de",
   "metadata": {},
   "source": [
    "With 100 datapoints the distribution already looks fairly normal and we could probably assume that this distribution would meet the assumption of normality necessary for conducting parametric statistical tests. \n",
    "\n",
    "As we are simulating data we can also increase the number of participants by changing the value we pass to the size argument. "
   ]
  },
  {
   "cell_type": "code",
   "execution_count": 4,
   "id": "33cccf86",
   "metadata": {},
   "outputs": [],
   "source": [
    "# Increasing the number of datapoints/ participants/ rows in the array to 1000.\n",
    "# On this occasion I have not printed out the array because it would just be a long list of numbers\n",
    "normal_dist_2 = np.random.normal(loc = 5, scale = 1, size = 1000)\n"
   ]
  },
  {
   "cell_type": "code",
   "execution_count": 5,
   "id": "ddb6a0ed",
   "metadata": {},
   "outputs": [
    {
     "data": {
      "text/plain": [
       "<AxesSubplot:ylabel='Count'>"
      ]
     },
     "execution_count": 5,
     "metadata": {},
     "output_type": "execute_result"
    },
    {
     "data": {
      "image/png": "[encoded data removed]",
      "text/plain": [
       "<Figure size 432x288 with 1 Axes>"
      ]
     },
     "metadata": {
      "needs_background": "light"
     },
     "output_type": "display_data"
    }
   ],
   "source": [
    "# Plotting the distibution as a histogram using the seaborn library. \n",
    "sns.histplot(normal_dist_2)"
   ]
  },
  {
   "cell_type": "markdown",
   "id": "19e37b5b",
   "metadata": {},
   "source": [
    "We can see above that increasing the amount of data has led to the variable looking increasingly more normal in shape. "
   ]
  },
  {
   "cell_type": "markdown",
   "id": "4ba1a7ad",
   "metadata": {},
   "source": [
    "Likewise, we could create a similar variable but pass different values for the mean and standard deviation. "
   ]
  },
  {
   "cell_type": "code",
   "execution_count": 6,
   "id": "6c29f862",
   "metadata": {},
   "outputs": [],
   "source": [
    "normal_dist_3 = np.random.normal(loc = 6.3, scale = 2.5, size = 1000)"
   ]
  },
  {
   "cell_type": "code",
   "execution_count": 7,
   "id": "24dc2e4e",
   "metadata": {},
   "outputs": [
    {
     "data": {
      "text/plain": [
       "<AxesSubplot:ylabel='Count'>"
      ]
     },
     "execution_count": 7,
     "metadata": {},
     "output_type": "execute_result"
    },
    {
     "data": {
      "image/png": "[encoded data removed]",
      "text/plain": [
       "<Figure size 432x288 with 1 Axes>"
      ]
     },
     "metadata": {
      "needs_background": "light"
     },
     "output_type": "display_data"
    }
   ],
   "source": [
    "# Plotting the distibution as a histogram using the seaborn library. \n",
    "sns.histplot(normal_dist_3)"
   ]
  },
  {
   "cell_type": "markdown",
   "id": "d6d70679",
   "metadata": {},
   "source": [
    "In the above histogram we can see that the distribution is still fairly Gaussian/ normal in shape but is wider than the previous example and takes on a much larger range of values on the x-axis. This is because I set the standard deviation to a higher value than in the first example so the spread of scores is greater. "
   ]
  },
  {
   "cell_type": "markdown",
   "id": "b0d6dc7e",
   "metadata": {},
   "source": [
    "### Standard Normal Distribution"
   ]
  },
  {
   "cell_type": "markdown",
   "id": "0bdb909c",
   "metadata": {},
   "source": [
    "Let's create another random sample with 500 datapoints, a mean of 0, and a SD of 1. Although the sample size is arbitrary here, the other parameters (mean = 0, SD = 1) would make this a close approximation to a standard normal distribution."
   ]
  },
  {
   "cell_type": "code",
   "execution_count": 8,
   "id": "dd4a6284",
   "metadata": {},
   "outputs": [],
   "source": [
    "# Creating the random sample the follows a standard normal distribution. \n",
    "# Again, I won't print the variable out as it will just be an array listing 500 numbers. \n",
    "stan_norm = np.random.normal(loc = 0, scale = 1, size = 500)"
   ]
  },
  {
   "cell_type": "code",
   "execution_count": 9,
   "id": "fcfcd37b",
   "metadata": {},
   "outputs": [
    {
     "data": {
      "text/plain": [
       "(500,)"
      ]
     },
     "execution_count": 9,
     "metadata": {},
     "output_type": "execute_result"
    }
   ],
   "source": [
    "# We can check the size of the array created using the shape method. As this is a 500 (rows) x 1 (column) numpy array. \n",
    "# This should just return the length of the array (500).\n",
    "\n",
    "stan_norm.shape"
   ]
  },
  {
   "cell_type": "markdown",
   "id": "9aa5ed68",
   "metadata": {},
   "source": [
    "We can run obtain some descriptive statistics for this variable and see how closely the parameters match a standard normal distribution. "
   ]
  },
  {
   "cell_type": "code",
   "execution_count": 10,
   "id": "0ca6ed1b",
   "metadata": {},
   "outputs": [
    {
     "data": {
      "text/plain": [
       "0.014106406246242608"
      ]
     },
     "execution_count": 10,
     "metadata": {},
     "output_type": "execute_result"
    }
   ],
   "source": [
    "import statistics as st\n",
    "\n",
    "# Obtaining the mean:\n",
    "\n",
    "st.mean(stan_norm)"
   ]
  },
  {
   "cell_type": "code",
   "execution_count": 11,
   "id": "4fd2dfa2",
   "metadata": {},
   "outputs": [
    {
     "data": {
      "text/plain": [
       "1.0056379739042023"
      ]
     },
     "execution_count": 11,
     "metadata": {},
     "output_type": "execute_result"
    }
   ],
   "source": [
    "# Obtaining the SD:\n",
    "\n",
    "st.stdev(stan_norm)"
   ]
  },
  {
   "cell_type": "markdown",
   "id": "3e9865fe",
   "metadata": {},
   "source": [
    "Although not exactly 0 and 1, we can see that the random sample of 500 datapoints I generated closely follows a standard normal distribution with a mean close to 0 and SD very close to 1.\n",
    "\n",
    "Next I will create some plots to visualise the distribution."
   ]
  },
  {
   "cell_type": "code",
   "execution_count": 12,
   "id": "60ecc385",
   "metadata": {},
   "outputs": [
    {
     "data": {
      "image/png": "[encoded data removed]",
      "text/plain": [
       "<Figure size 432x288 with 1 Axes>"
      ]
     },
     "metadata": {
      "needs_background": "light"
     },
     "output_type": "display_data"
    }
   ],
   "source": [
    "# Using matplotlib to create a histogram showing the distribution of the data. Note: I have used the norm.pdf method to\n",
    "# overlay the Probability Density Function over the top of the histogram. \n",
    "\n",
    "hist_snd = plt.hist(stan_norm, bins = 30, histtype = 'bar', density = 1, ec = 'k')\n",
    "plt.plot(hist_snd[1], norm.pdf(hist_snd[1], st.mean(stan_norm), st.stdev(stan_norm)), linewidth = 2)\n",
    "plt.title(r'Mean=%.4f, Std Dev=%.4f' %(st.mean(stan_norm), st.stdev(stan_norm)))\n",
    "plt.show()"
   ]
  },
  {
   "cell_type": "code",
   "execution_count": 13,
   "id": "5c8d9166",
   "metadata": {},
   "outputs": [
    {
     "data": {
      "image/png": "[encoded data removed]",
      "text/plain": [
       "<Figure size 432x288 with 1 Axes>"
      ]
     },
     "metadata": {
      "needs_background": "light"
     },
     "output_type": "display_data"
    }
   ],
   "source": [
    "# Next I will import the statsmodels library and use it to create a qqplot for the data.\n",
    "\n",
    "import statsmodels.api as sm\n",
    "\n",
    "sm.qqplot(stan_norm, line = '45')\n",
    "plt.xlabel(\"Thoeretical Quantiles\")\n",
    "plt.ylabel(\"Sample Quantiles\")\n",
    "plt.show()"
   ]
  },
  {
   "cell_type": "markdown",
   "id": "912c69de",
   "metadata": {},
   "source": [
    "We can see from the above two plots that the variable corresponds very closely to a standard normal distribution. Although not perfect, as we have a fairly small sample size, the histogram has a shape that is close to Gaussian (bell-shaped) and inspecting the QQ-Plot we can see that most of the data points sit along the diagonal line indicating that the actual and predicted values for a normal distribution are almost identical.\n",
    "\n",
    "In the above examples, I have used numpy to simulate data for various sample sizes and specified that the data should follow a normal distribution. Obviously, the larger the sample we use the more closely our simulated data will match a normal distribution. I have also looked at ways of checking the data through descriptive statistics and visualisation. This is useful information but mostly when doing some sort of statistical analysis or investigating a research question we have data that has been recorded for multiple variables and we investigate the relationship between those variables. So, when simulating data we often want a data frame that consists multiple variables. We can extend the techniques we have used here by simulating multiple variables and then combining them into a pandas dataframe. When doing this we would need to make sure we create variables of equal sizes to avoid have missing data on the variable with the smaller sample size."
   ]
  },
  {
   "cell_type": "markdown",
   "id": "49dfc7c5",
   "metadata": {},
   "source": [
    "### Creating a pandas dataframe "
   ]
  },
  {
   "cell_type": "markdown",
   "id": "495e9b21",
   "metadata": {},
   "source": [
    "Creating a pandas frame with three variables (var_1, var_2, var_3) that could represent scores on some scale or measure we have recorded from participants as part of our research.  "
   ]
  },
  {
   "cell_type": "code",
   "execution_count": 14,
   "id": "a63179bb",
   "metadata": {},
   "outputs": [
    {
     "data": {
      "text/html": [
       "<div>\n",
       "<style scoped>\n",
       "    .dataframe tbody tr th:only-of-type {\n",
       "        vertical-align: middle;\n",
       "    }\n",
       "\n",
       "    .dataframe tbody tr th {\n",
       "        vertical-align: top;\n",
       "    }\n",
       "\n",
       "    .dataframe thead th {\n",
       "        text-align: right;\n",
       "    }\n",
       "</style>\n",
       "<table border=\"1\" class=\"dataframe\">\n",
       "  <thead>\n",
       "    <tr style=\"text-align: right;\">\n",
       "      <th></th>\n",
       "      <th>var_1</th>\n",
       "      <th>var_2</th>\n",
       "      <th>var_3</th>\n",
       "    </tr>\n",
       "  </thead>\n",
       "  <tbody>\n",
       "    <tr>\n",
       "      <th>0</th>\n",
       "      <td>0.478221</td>\n",
       "      <td>0.023527</td>\n",
       "      <td>2.650937</td>\n",
       "    </tr>\n",
       "    <tr>\n",
       "      <th>1</th>\n",
       "      <td>-1.735074</td>\n",
       "      <td>4.591894</td>\n",
       "      <td>4.661556</td>\n",
       "    </tr>\n",
       "    <tr>\n",
       "      <th>2</th>\n",
       "      <td>0.608925</td>\n",
       "      <td>7.076238</td>\n",
       "      <td>7.690215</td>\n",
       "    </tr>\n",
       "    <tr>\n",
       "      <th>3</th>\n",
       "      <td>0.344682</td>\n",
       "      <td>-1.603428</td>\n",
       "      <td>5.008560</td>\n",
       "    </tr>\n",
       "    <tr>\n",
       "      <th>4</th>\n",
       "      <td>0.412893</td>\n",
       "      <td>1.203106</td>\n",
       "      <td>6.603821</td>\n",
       "    </tr>\n",
       "  </tbody>\n",
       "</table>\n",
       "</div>"
      ],
      "text/plain": [
       "      var_1     var_2     var_3\n",
       "0  0.478221  0.023527  2.650937\n",
       "1 -1.735074  4.591894  4.661556\n",
       "2  0.608925  7.076238  7.690215\n",
       "3  0.344682 -1.603428  5.008560\n",
       "4  0.412893  1.203106  6.603821"
      ]
     },
     "execution_count": 14,
     "metadata": {},
     "output_type": "execute_result"
    }
   ],
   "source": [
    "# Creating a pandas dataframe using the pd.DataFrame method and passing a dictionary showing the variable labels\n",
    "# and arrays of random numbers that follow a normal distribution simulated using the np.random.normal method.\n",
    "\n",
    "df = pd.DataFrame({'var_1': np.random.normal(loc = 0, scale = 1, size = 500), \n",
    "                  'var_2': np.random.normal(loc = 3, scale = 2.4, size = 500), \n",
    "                  'var_3': np.random.normal(loc = 6, scale = 2, size = 500)})\n",
    "\n",
    "df.head()"
   ]
  },
  {
   "cell_type": "markdown",
   "id": "62be5ed3",
   "metadata": {},
   "source": [
    "In the above output we can now see the head (first 6 rows) of the new dataframe. The data is in a tidy format with each variable in a column and each row representing data from a single participant. \n",
    "\n",
    "We can obtain descriptive statistics for each of the variables we simulated using the pandas describe method now that the data is formatted as a dataframe.  "
   ]
  },
  {
   "cell_type": "code",
   "execution_count": 15,
   "id": "8c7924ab",
   "metadata": {},
   "outputs": [
    {
     "data": {
      "text/html": [
       "<div>\n",
       "<style scoped>\n",
       "    .dataframe tbody tr th:only-of-type {\n",
       "        vertical-align: middle;\n",
       "    }\n",
       "\n",
       "    .dataframe tbody tr th {\n",
       "        vertical-align: top;\n",
       "    }\n",
       "\n",
       "    .dataframe thead th {\n",
       "        text-align: right;\n",
       "    }\n",
       "</style>\n",
       "<table border=\"1\" class=\"dataframe\">\n",
       "  <thead>\n",
       "    <tr style=\"text-align: right;\">\n",
       "      <th></th>\n",
       "      <th>var_1</th>\n",
       "      <th>var_2</th>\n",
       "      <th>var_3</th>\n",
       "    </tr>\n",
       "  </thead>\n",
       "  <tbody>\n",
       "    <tr>\n",
       "      <th>count</th>\n",
       "      <td>500.000000</td>\n",
       "      <td>500.000000</td>\n",
       "      <td>500.000000</td>\n",
       "    </tr>\n",
       "    <tr>\n",
       "      <th>mean</th>\n",
       "      <td>-0.076475</td>\n",
       "      <td>3.065560</td>\n",
       "      <td>6.016121</td>\n",
       "    </tr>\n",
       "    <tr>\n",
       "      <th>std</th>\n",
       "      <td>1.018713</td>\n",
       "      <td>2.419776</td>\n",
       "      <td>2.021142</td>\n",
       "    </tr>\n",
       "    <tr>\n",
       "      <th>min</th>\n",
       "      <td>-2.973534</td>\n",
       "      <td>-3.701674</td>\n",
       "      <td>0.230364</td>\n",
       "    </tr>\n",
       "    <tr>\n",
       "      <th>25%</th>\n",
       "      <td>-0.777648</td>\n",
       "      <td>1.500943</td>\n",
       "      <td>4.655880</td>\n",
       "    </tr>\n",
       "    <tr>\n",
       "      <th>50%</th>\n",
       "      <td>-0.073729</td>\n",
       "      <td>3.116029</td>\n",
       "      <td>6.092493</td>\n",
       "    </tr>\n",
       "    <tr>\n",
       "      <th>75%</th>\n",
       "      <td>0.613291</td>\n",
       "      <td>4.598604</td>\n",
       "      <td>7.405735</td>\n",
       "    </tr>\n",
       "    <tr>\n",
       "      <th>max</th>\n",
       "      <td>2.972756</td>\n",
       "      <td>12.086876</td>\n",
       "      <td>12.095392</td>\n",
       "    </tr>\n",
       "  </tbody>\n",
       "</table>\n",
       "</div>"
      ],
      "text/plain": [
       "            var_1       var_2       var_3\n",
       "count  500.000000  500.000000  500.000000\n",
       "mean    -0.076475    3.065560    6.016121\n",
       "std      1.018713    2.419776    2.021142\n",
       "min     -2.973534   -3.701674    0.230364\n",
       "25%     -0.777648    1.500943    4.655880\n",
       "50%     -0.073729    3.116029    6.092493\n",
       "75%      0.613291    4.598604    7.405735\n",
       "max      2.972756   12.086876   12.095392"
      ]
     },
     "execution_count": 15,
     "metadata": {},
     "output_type": "execute_result"
    }
   ],
   "source": [
    "df.describe()"
   ]
  },
  {
   "cell_type": "markdown",
   "id": "b7a35580",
   "metadata": {},
   "source": [
    "We can see by looking at the mean and SD for each variable that there is some slight deviation from the mean and SD values we specified when generating the data but they closely approximate the distribution of data we wanted. "
   ]
  },
  {
   "cell_type": "markdown",
   "id": "df1ab4e8",
   "metadata": {},
   "source": [
    "### Generating data that follows a normal distribution using scipy (stats.norm.rvs)"
   ]
  },
  {
   "cell_type": "markdown",
   "id": "336dd45f",
   "metadata": {},
   "source": [
    "Below I have simulated some data that follows a normal distribution using an alternative library and method. In this case, the Scipy norm method. This function takes the same parameters as the previous method used (loc, scale, size)."
   ]
  },
  {
   "cell_type": "code",
   "execution_count": 16,
   "id": "816d29a7",
   "metadata": {},
   "outputs": [],
   "source": [
    "# Here I have created a variable called group_1 that has 250 datapoints, a mean of 10 and standard deviation (SD) of 2.4.\n",
    "group_1 = norm.rvs(loc = 10, scale = 2.4, size = 250)"
   ]
  },
  {
   "cell_type": "code",
   "execution_count": 17,
   "id": "69c57f1c",
   "metadata": {},
   "outputs": [],
   "source": [
    "# Likewise, I have created a variable called group_2 that has 250 datapoints, a mean of 11.5 and standard deviation (SD) of 2.\n",
    "group_2 = norm.rvs(loc = 11.5, scale = 2, size = 250)"
   ]
  },
  {
   "cell_type": "markdown",
   "id": "657673b9",
   "metadata": {},
   "source": [
    "To create visualisation plots, below, I have generated histograms for the above two variables (group_1, group_2) using the seaborn library and histplot method."
   ]
  },
  {
   "cell_type": "code",
   "execution_count": 18,
   "id": "111f54b7",
   "metadata": {},
   "outputs": [
    {
     "data": {
      "text/plain": [
       "<AxesSubplot:ylabel='Count'>"
      ]
     },
     "execution_count": 18,
     "metadata": {},
     "output_type": "execute_result"
    },
    {
     "data": {
      "image/png": "[encoded data removed]",
      "text/plain": [
       "<Figure size 432x288 with 1 Axes>"
      ]
     },
     "metadata": {
      "needs_background": "light"
     },
     "output_type": "display_data"
    }
   ],
   "source": [
    "# Histogram for group_1 using the seaborn (sns) histplot method:\n",
    "sns.histplot(group_1)"
   ]
  },
  {
   "cell_type": "code",
   "execution_count": 19,
   "id": "3b54ee08",
   "metadata": {},
   "outputs": [
    {
     "data": {
      "text/plain": [
       "<AxesSubplot:ylabel='Count'>"
      ]
     },
     "execution_count": 19,
     "metadata": {},
     "output_type": "execute_result"
    },
    {
     "data": {
      "image/png": "[encoded data removed]",
      "text/plain": [
       "<Figure size 432x288 with 1 Axes>"
      ]
     },
     "metadata": {
      "needs_background": "light"
     },
     "output_type": "display_data"
    }
   ],
   "source": [
    "# Seaborn histplot for group_2.\n",
    "sns.histplot(group_2)"
   ]
  },
  {
   "cell_type": "markdown",
   "id": "e9fb4bc3",
   "metadata": {},
   "source": [
    "When simulating data we may want to create normally distributed data consisting of different groups/ categories, where those groups have different means and SDs. We could achieve this by concatenating the two data groups we have just created into one large variable (in this case it would have 500 datapoints (250 datapoints from each group)."
   ]
  },
  {
   "cell_type": "code",
   "execution_count": 20,
   "id": "83e679d3",
   "metadata": {},
   "outputs": [],
   "source": [
    "# Using the above groups to create a variable with 500 datapoints using the np.concatenate method.\n",
    "var_4 = np.concatenate((group_1, group_2))"
   ]
  },
  {
   "cell_type": "code",
   "execution_count": 21,
   "id": "6008313a",
   "metadata": {},
   "outputs": [
    {
     "data": {
      "text/plain": [
       "(500,)"
      ]
     },
     "execution_count": 21,
     "metadata": {},
     "output_type": "execute_result"
    }
   ],
   "source": [
    "# Using shape we can now see that the two groups (each with 250 datapoints) have been combined into one larger variable\n",
    "# with 500 rows. \n",
    "var_4.shape"
   ]
  },
  {
   "cell_type": "code",
   "execution_count": 22,
   "id": "66b95b61",
   "metadata": {},
   "outputs": [
    {
     "data": {
      "text/plain": [
       "<AxesSubplot:ylabel='Count'>"
      ]
     },
     "execution_count": 22,
     "metadata": {},
     "output_type": "execute_result"
    },
    {
     "data": {
      "image/png": "[encoded data removed]",
      "text/plain": [
       "<Figure size 432x288 with 1 Axes>"
      ]
     },
     "metadata": {
      "needs_background": "light"
     },
     "output_type": "display_data"
    }
   ],
   "source": [
    "# We can also obtain a histogram for this new variable (var_4).\n",
    "sns.histplot(var_4)"
   ]
  },
  {
   "cell_type": "markdown",
   "id": "0c53df48",
   "metadata": {},
   "source": [
    "We can see that var_4, a combination of group_1 and group_2, although slightly negatively skewed, is starting to approximate a normally-shaped distribution consisting of 500 datapoints."
   ]
  },
  {
   "cell_type": "markdown",
   "id": "e69f9cbf",
   "metadata": {},
   "source": [
    "As we previously combined a number of variables, each with 500 participants, into a single pandas dataframe we could also append this new variable (var_4) if we wanted to and were looking to create a larger more complex data set."
   ]
  },
  {
   "cell_type": "code",
   "execution_count": 23,
   "id": "4f525f66",
   "metadata": {},
   "outputs": [
    {
     "data": {
      "text/html": [
       "<div>\n",
       "<style scoped>\n",
       "    .dataframe tbody tr th:only-of-type {\n",
       "        vertical-align: middle;\n",
       "    }\n",
       "\n",
       "    .dataframe tbody tr th {\n",
       "        vertical-align: top;\n",
       "    }\n",
       "\n",
       "    .dataframe thead th {\n",
       "        text-align: right;\n",
       "    }\n",
       "</style>\n",
       "<table border=\"1\" class=\"dataframe\">\n",
       "  <thead>\n",
       "    <tr style=\"text-align: right;\">\n",
       "      <th></th>\n",
       "      <th>var_1</th>\n",
       "      <th>var_2</th>\n",
       "      <th>var_3</th>\n",
       "      <th>var_4</th>\n",
       "    </tr>\n",
       "  </thead>\n",
       "  <tbody>\n",
       "    <tr>\n",
       "      <th>0</th>\n",
       "      <td>0.478221</td>\n",
       "      <td>0.023527</td>\n",
       "      <td>2.650937</td>\n",
       "      <td>8.191965</td>\n",
       "    </tr>\n",
       "    <tr>\n",
       "      <th>1</th>\n",
       "      <td>-1.735074</td>\n",
       "      <td>4.591894</td>\n",
       "      <td>4.661556</td>\n",
       "      <td>10.485353</td>\n",
       "    </tr>\n",
       "    <tr>\n",
       "      <th>2</th>\n",
       "      <td>0.608925</td>\n",
       "      <td>7.076238</td>\n",
       "      <td>7.690215</td>\n",
       "      <td>12.535671</td>\n",
       "    </tr>\n",
       "    <tr>\n",
       "      <th>3</th>\n",
       "      <td>0.344682</td>\n",
       "      <td>-1.603428</td>\n",
       "      <td>5.008560</td>\n",
       "      <td>6.183339</td>\n",
       "    </tr>\n",
       "    <tr>\n",
       "      <th>4</th>\n",
       "      <td>0.412893</td>\n",
       "      <td>1.203106</td>\n",
       "      <td>6.603821</td>\n",
       "      <td>7.049941</td>\n",
       "    </tr>\n",
       "  </tbody>\n",
       "</table>\n",
       "</div>"
      ],
      "text/plain": [
       "      var_1     var_2     var_3      var_4\n",
       "0  0.478221  0.023527  2.650937   8.191965\n",
       "1 -1.735074  4.591894  4.661556  10.485353\n",
       "2  0.608925  7.076238  7.690215  12.535671\n",
       "3  0.344682 -1.603428  5.008560   6.183339\n",
       "4  0.412893  1.203106  6.603821   7.049941"
      ]
     },
     "execution_count": 23,
     "metadata": {},
     "output_type": "execute_result"
    }
   ],
   "source": [
    "# Attaching the new variable to the dataframe created earlier in ths notebook. \n",
    "\n",
    "df['var_4'] = var_4\n",
    "\n",
    "df.head()"
   ]
  },
  {
   "cell_type": "markdown",
   "id": "cb03ca87",
   "metadata": {},
   "source": [
    "The new variable (var_4) originally consisted of two groups. We may want to compare those two groups as part of some analysis. As such it would be useful to also add a column with the groups labels showing whether a participant was in group_1 or group_2. "
   ]
  },
  {
   "cell_type": "code",
   "execution_count": 24,
   "id": "35092c69",
   "metadata": {},
   "outputs": [
    {
     "data": {
      "text/html": [
       "<div>\n",
       "<style scoped>\n",
       "    .dataframe tbody tr th:only-of-type {\n",
       "        vertical-align: middle;\n",
       "    }\n",
       "\n",
       "    .dataframe tbody tr th {\n",
       "        vertical-align: top;\n",
       "    }\n",
       "\n",
       "    .dataframe thead th {\n",
       "        text-align: right;\n",
       "    }\n",
       "</style>\n",
       "<table border=\"1\" class=\"dataframe\">\n",
       "  <thead>\n",
       "    <tr style=\"text-align: right;\">\n",
       "      <th></th>\n",
       "      <th>var_1</th>\n",
       "      <th>var_2</th>\n",
       "      <th>var_3</th>\n",
       "      <th>var_4</th>\n",
       "      <th>var_5</th>\n",
       "    </tr>\n",
       "  </thead>\n",
       "  <tbody>\n",
       "    <tr>\n",
       "      <th>0</th>\n",
       "      <td>0.478221</td>\n",
       "      <td>0.023527</td>\n",
       "      <td>2.650937</td>\n",
       "      <td>8.191965</td>\n",
       "      <td>group 1</td>\n",
       "    </tr>\n",
       "    <tr>\n",
       "      <th>1</th>\n",
       "      <td>-1.735074</td>\n",
       "      <td>4.591894</td>\n",
       "      <td>4.661556</td>\n",
       "      <td>10.485353</td>\n",
       "      <td>group 1</td>\n",
       "    </tr>\n",
       "    <tr>\n",
       "      <th>2</th>\n",
       "      <td>0.608925</td>\n",
       "      <td>7.076238</td>\n",
       "      <td>7.690215</td>\n",
       "      <td>12.535671</td>\n",
       "      <td>group 1</td>\n",
       "    </tr>\n",
       "    <tr>\n",
       "      <th>3</th>\n",
       "      <td>0.344682</td>\n",
       "      <td>-1.603428</td>\n",
       "      <td>5.008560</td>\n",
       "      <td>6.183339</td>\n",
       "      <td>group 1</td>\n",
       "    </tr>\n",
       "    <tr>\n",
       "      <th>4</th>\n",
       "      <td>0.412893</td>\n",
       "      <td>1.203106</td>\n",
       "      <td>6.603821</td>\n",
       "      <td>7.049941</td>\n",
       "      <td>group 1</td>\n",
       "    </tr>\n",
       "  </tbody>\n",
       "</table>\n",
       "</div>"
      ],
      "text/plain": [
       "      var_1     var_2     var_3      var_4    var_5\n",
       "0  0.478221  0.023527  2.650937   8.191965  group 1\n",
       "1 -1.735074  4.591894  4.661556  10.485353  group 1\n",
       "2  0.608925  7.076238  7.690215  12.535671  group 1\n",
       "3  0.344682 -1.603428  5.008560   6.183339  group 1\n",
       "4  0.412893  1.203106  6.603821   7.049941  group 1"
      ]
     },
     "execution_count": 24,
     "metadata": {},
     "output_type": "execute_result"
    }
   ],
   "source": [
    "# To attach a column showing the labels for the group categories I have used the pandas cut function. \n",
    "# Note: I have had to specify to use the data frame index (df.index) and in creating the bin size I have\n",
    "# had to start from -1. Starting from 0 excludes the first row of data (zeroth indexed). \n",
    "\n",
    "df['var_5'] = pd.cut(df.index, bins = [-1, 250, 500], labels = ['group 1', 'group 2'])\n",
    "\n",
    "df.head()"
   ]
  },
  {
   "cell_type": "code",
   "execution_count": 25,
   "id": "58ea6967",
   "metadata": {},
   "outputs": [
    {
     "data": {
      "text/html": [
       "<div>\n",
       "<style scoped>\n",
       "    .dataframe tbody tr th:only-of-type {\n",
       "        vertical-align: middle;\n",
       "    }\n",
       "\n",
       "    .dataframe tbody tr th {\n",
       "        vertical-align: top;\n",
       "    }\n",
       "\n",
       "    .dataframe thead th {\n",
       "        text-align: right;\n",
       "    }\n",
       "</style>\n",
       "<table border=\"1\" class=\"dataframe\">\n",
       "  <thead>\n",
       "    <tr style=\"text-align: right;\">\n",
       "      <th></th>\n",
       "      <th>var_1</th>\n",
       "      <th>var_2</th>\n",
       "      <th>var_3</th>\n",
       "      <th>var_4</th>\n",
       "      <th>var_5</th>\n",
       "    </tr>\n",
       "  </thead>\n",
       "  <tbody>\n",
       "    <tr>\n",
       "      <th>495</th>\n",
       "      <td>-0.148075</td>\n",
       "      <td>0.204781</td>\n",
       "      <td>8.230190</td>\n",
       "      <td>11.513028</td>\n",
       "      <td>group 2</td>\n",
       "    </tr>\n",
       "    <tr>\n",
       "      <th>496</th>\n",
       "      <td>0.505766</td>\n",
       "      <td>3.583690</td>\n",
       "      <td>5.015960</td>\n",
       "      <td>11.098567</td>\n",
       "      <td>group 2</td>\n",
       "    </tr>\n",
       "    <tr>\n",
       "      <th>497</th>\n",
       "      <td>0.010303</td>\n",
       "      <td>0.626639</td>\n",
       "      <td>5.783730</td>\n",
       "      <td>10.548966</td>\n",
       "      <td>group 2</td>\n",
       "    </tr>\n",
       "    <tr>\n",
       "      <th>498</th>\n",
       "      <td>0.278374</td>\n",
       "      <td>2.231075</td>\n",
       "      <td>9.845235</td>\n",
       "      <td>13.390674</td>\n",
       "      <td>group 2</td>\n",
       "    </tr>\n",
       "    <tr>\n",
       "      <th>499</th>\n",
       "      <td>-0.072966</td>\n",
       "      <td>6.012977</td>\n",
       "      <td>7.894742</td>\n",
       "      <td>13.367960</td>\n",
       "      <td>group 2</td>\n",
       "    </tr>\n",
       "  </tbody>\n",
       "</table>\n",
       "</div>"
      ],
      "text/plain": [
       "        var_1     var_2     var_3      var_4    var_5\n",
       "495 -0.148075  0.204781  8.230190  11.513028  group 2\n",
       "496  0.505766  3.583690  5.015960  11.098567  group 2\n",
       "497  0.010303  0.626639  5.783730  10.548966  group 2\n",
       "498  0.278374  2.231075  9.845235  13.390674  group 2\n",
       "499 -0.072966  6.012977  7.894742  13.367960  group 2"
      ]
     },
     "execution_count": 25,
     "metadata": {},
     "output_type": "execute_result"
    }
   ],
   "source": [
    "df.tail()"
   ]
  },
  {
   "cell_type": "markdown",
   "id": "fdec8df7",
   "metadata": {},
   "source": [
    "Above we now have a dataframe consisting of several variables that are all normally distributed. We even have a normally distributed variable consisting of two groups (var_4) and a variable indicating which scores belong to which group (var_5). As such, we have a dataframe that is in a tidy long and thin format and we could use it to conduct different analyses. This includes inferential tests comparing the means of our two groups on var_4. "
   ]
  },
  {
   "cell_type": "markdown",
   "id": "b79b2377",
   "metadata": {},
   "source": [
    "### Example: Normal Distribution\n"
   ]
  },
  {
   "cell_type": "markdown",
   "id": "80d26a92",
   "metadata": {},
   "source": [
    "In this example I will generate data for a new variable. I will set the seed before doing so, to allow the pseudo-random results to be repeated. I will then explore the data in various ways, though visualisation and distribution fitting, before using the pdf, cdf, and ppf to find different probabilites and values for given outcomes. "
   ]
  },
  {
   "cell_type": "code",
   "execution_count": 26,
   "id": "81d4d399",
   "metadata": {},
   "outputs": [],
   "source": [
    "# Planting a random seed using numpy set seed method. This will ensure results are replicable. \n",
    "# Here I have planted a seed of 0. Any abritrary number could have been chosen.\n",
    "\n",
    "np.random.seed(0)\n",
    "\n",
    "# Generate the data. Using the np.random.normal method. I have chosen a mean of 0 and standard deviation of 1.\n",
    "# So this variable will be very close to a standard normal distribution. \n",
    "\n",
    "x_rand = np.random.normal(loc = 0, scale = 1.0, size = 1000)\n"
   ]
  },
  {
   "cell_type": "code",
   "execution_count": 27,
   "id": "290e5fb3",
   "metadata": {},
   "outputs": [
    {
     "data": {
      "text/plain": [
       "<AxesSubplot:ylabel='Count'>"
      ]
     },
     "execution_count": 27,
     "metadata": {},
     "output_type": "execute_result"
    },
    {
     "data": {
      "image/png": "[encoded data removed]",
      "text/plain": [
       "<Figure size 432x288 with 1 Axes>"
      ]
     },
     "metadata": {
      "needs_background": "light"
     },
     "output_type": "display_data"
    }
   ],
   "source": [
    "# Create visualisation in sns \n",
    "\n",
    "sns.histplot(x_rand)"
   ]
  },
  {
   "cell_type": "code",
   "execution_count": 28,
   "id": "ae28d5b7",
   "metadata": {},
   "outputs": [
    {
     "data": {
      "text/plain": [
       "<AxesSubplot:ylabel='Count'>"
      ]
     },
     "execution_count": 28,
     "metadata": {},
     "output_type": "execute_result"
    },
    {
     "data": {
      "image/png": "[encoded data removed]",
      "text/plain": [
       "<Figure size 432x288 with 1 Axes>"
      ]
     },
     "metadata": {
      "needs_background": "light"
     },
     "output_type": "display_data"
    }
   ],
   "source": [
    "# We can add a kde line by setting this parameter equal to True. \n",
    "# This gives us a kernel density estimator of the shape of the data distribution.\n",
    "# We can see here that it is largely shaped normally. The kde soft line gives us a visual way to\n",
    "# assess the distribution shape and any skew (a long  tail at one end of the distribution or the other)\n",
    "# or kurtosis (whether it is peaked or has long fat tails). \n",
    "\n",
    "sns.histplot(x_rand, kde = True)"
   ]
  },
  {
   "cell_type": "markdown",
   "id": "0e26f378",
   "metadata": {},
   "source": [
    "#### Distribution Fitting"
   ]
  },
  {
   "cell_type": "code",
   "execution_count": 29,
   "id": "bc81b3f5",
   "metadata": {},
   "outputs": [
    {
     "data": {
      "text/plain": [
       "(-0.045256707490195384, 0.9870331586690257)"
      ]
     },
     "execution_count": 29,
     "metadata": {},
     "output_type": "execute_result"
    }
   ],
   "source": [
    "# Distribution fitting. \n",
    "# Here we can use scipy stats functions to obtain the parameters for our data. \n",
    "# This will return the mean (loc) and standard deviation (scale). \n",
    "\n",
    "from scipy import stats \n",
    "\n",
    "loc, scale = stats.norm.fit(x_rand)\n",
    "\n",
    "loc, scale"
   ]
  },
  {
   "cell_type": "markdown",
   "id": "ace86b95",
   "metadata": {},
   "source": [
    "We can see that the simulated data has a mean of -0.045 and a standard deviation of 0.987. Very close to the loc and scale we specified when generating the data. The parameters are not a perfect match for the values we specified (mean = 0, SD = 1) but are very close, there is some error because our data is based on a sample of a finite size. "
   ]
  },
  {
   "cell_type": "markdown",
   "id": "7bcc53df",
   "metadata": {},
   "source": [
    "#### Probability Density Function"
   ]
  },
  {
   "cell_type": "code",
   "execution_count": 30,
   "id": "c2a412c6",
   "metadata": {},
   "outputs": [],
   "source": [
    "# Probability Density Function (pdf)\n",
    "# The pdf represents the relative likelihood that the variable takes a specific value. \n",
    "# Firstly, creating a vector of values on the x-axis we can then use some of these values to assess their probability. \n",
    "\n",
    "x_vals = np.linspace(start = -5, stop = 5, num = 100)"
   ]
  },
  {
   "cell_type": "code",
   "execution_count": 31,
   "id": "46ac0883",
   "metadata": {},
   "outputs": [],
   "source": [
    "# Creating the pdf for these x_vals. Specifying the mean and SD using those from our simulated data.\n",
    "\n",
    "pdf = stats.norm.pdf(x_vals, loc = loc, scale = scale)"
   ]
  },
  {
   "cell_type": "code",
   "execution_count": 32,
   "id": "4c06cb14",
   "metadata": {},
   "outputs": [
    {
     "data": {
      "text/plain": [
       "Text(0, 0.5, 'PDF')"
      ]
     },
     "execution_count": 32,
     "metadata": {},
     "output_type": "execute_result"
    },
    {
     "data": {
      "image/png": "[encoded data removed]",
      "text/plain": [
       "<Figure size 432x288 with 1 Axes>"
      ]
     },
     "metadata": {
      "needs_background": "light"
     },
     "output_type": "display_data"
    }
   ],
   "source": [
    "# Plotting the pdf\n",
    "\n",
    "plt.plot(x_vals, pdf, color = 'black')\n",
    "plt.xlabel('X Values')\n",
    "plt.ylabel('PDF')"
   ]
  },
  {
   "cell_type": "markdown",
   "id": "d59d6715",
   "metadata": {},
   "source": [
    "What we have done above is plotted a standard normal distribution line for the simulated data, using the parameters of that data (mean and SD). The above PDF plot shows us the probability of getting certain values on the x-axis. We can see the most frequent/ likely value of X is 0 and this has a probability of about 0.4. We can also see that values greater than -3 or +3 SD are much rarer and have very low probabilities. "
   ]
  },
  {
   "cell_type": "markdown",
   "id": "7411de85",
   "metadata": {},
   "source": [
    "#### Cumulative Distribution Function"
   ]
  },
  {
   "cell_type": "code",
   "execution_count": 33,
   "id": "8a116376",
   "metadata": {},
   "outputs": [],
   "source": [
    "# Cumulative Distribution Function (cdf)\n",
    "# The cdf tells us the probability that a given X has values lower than a specific value. \n",
    "# The cdf is the integral (cumulative sum) of the pdf. \n",
    "# It is a monotonically increasing function that has a range between 0 and 1. \n",
    "\n",
    "cdf = stats.norm.cdf(x_vals, loc = loc, scale = scale)"
   ]
  },
  {
   "cell_type": "code",
   "execution_count": 34,
   "id": "e5fff270",
   "metadata": {},
   "outputs": [
    {
     "data": {
      "text/plain": [
       "Text(0, 0.5, 'CDF = P(X <= X)')"
      ]
     },
     "execution_count": 34,
     "metadata": {},
     "output_type": "execute_result"
    },
    {
     "data": {
      "image/png": "[encoded data removed]",
      "text/plain": [
       "<Figure size 432x288 with 1 Axes>"
      ]
     },
     "metadata": {
      "needs_background": "light"
     },
     "output_type": "display_data"
    }
   ],
   "source": [
    "# Plotting the cdf\n",
    "\n",
    "plt.plot(x_vals, cdf, color = 'black')\n",
    "plt.xlabel('X Values')\n",
    "plt.ylabel('CDF = P(X <= X)')"
   ]
  },
  {
   "cell_type": "markdown",
   "id": "2d838413",
   "metadata": {},
   "source": [
    "The CDF can be used to tell us the probability of getting a certain value of X or lower. For example, reading the value of 2 from the x-axis we can see that the black CDF line at that point indicates a probability that is close to 1 (probably around 0.98). From this we know that approximately 98% of scores on the X variable are less than or equal to 2. "
   ]
  },
  {
   "cell_type": "markdown",
   "id": "4bf4f641",
   "metadata": {},
   "source": [
    "#### Percent Point Function"
   ]
  },
  {
   "cell_type": "code",
   "execution_count": 35,
   "id": "ffbcbe08",
   "metadata": {},
   "outputs": [],
   "source": [
    "# Percent Point Function (ppf)\n",
    "# The PPF is the reverse application of the cdf. In this case if we took a specific probability on the y-axis, \n",
    "# we could use the ppf to know what value that represent on the x-axis. \n",
    "\n",
    "# To use the ppf we first need to create a vector of linearly space values from the cdf (y-axis)\n",
    "\n",
    "cdf_ = np.linspace(start = 0, stop = 1, num = 10000)"
   ]
  },
  {
   "cell_type": "code",
   "execution_count": 36,
   "id": "9a50646f",
   "metadata": {},
   "outputs": [],
   "source": [
    "# Now obtaining the ppf using the cdf as an argument. \n",
    "\n",
    "x_ = stats.norm.ppf(cdf_, loc = loc, scale = scale)"
   ]
  },
  {
   "cell_type": "code",
   "execution_count": 37,
   "id": "25e78320",
   "metadata": {},
   "outputs": [
    {
     "data": {
      "text/plain": [
       "Text(0, 0.5, 'CDF = P(X <= X)')"
      ]
     },
     "execution_count": 37,
     "metadata": {},
     "output_type": "execute_result"
    },
    {
     "data": {
      "image/png": "[encoded data removed]",
      "text/plain": [
       "<Figure size 432x288 with 1 Axes>"
      ]
     },
     "metadata": {
      "needs_background": "light"
     },
     "output_type": "display_data"
    }
   ],
   "source": [
    "# Plotting the ppf we get the same plot as above. The only difference is we have used the ppf to plot the x-axis\n",
    "# corresponding value. \n",
    "\n",
    "plt.plot(x_, cdf_, color = 'black')\n",
    "plt.xlabel('X Values')\n",
    "plt.ylabel('CDF = P(X <= X)')"
   ]
  },
  {
   "cell_type": "markdown",
   "id": "506bca80",
   "metadata": {},
   "source": [
    "#### Using the CDF and PPF to obtain values and probabilites"
   ]
  },
  {
   "cell_type": "markdown",
   "id": "6277d734",
   "metadata": {},
   "source": [
    "Having obtained the cdf and ppf for the data, we can now investigate how they can be used to obtain value or probabilities. "
   ]
  },
  {
   "cell_type": "code",
   "execution_count": 38,
   "id": "950b05e1",
   "metadata": {},
   "outputs": [
    {
     "data": {
      "text/plain": [
       "0.8551974783788131"
      ]
     },
     "execution_count": 38,
     "metadata": {},
     "output_type": "execute_result"
    }
   ],
   "source": [
    "# For example, what is the probability that the variable X takes values of 1 or lower?\n",
    "# To obtain this we can simply create an object using the stats.norm.cdf method and pass in a single value of 1\n",
    "# as an argument, rather than a vector as we did previously. \n",
    "\n",
    "cdf_1 = stats.norm.cdf(1, loc = loc, scale = scale)\n",
    "cdf_1"
   ]
  },
  {
   "cell_type": "markdown",
   "id": "e5e1dcfe",
   "metadata": {},
   "source": [
    "We can see from the above that there is about an 86% probability that someone has a score of 1 or below on the X variable. "
   ]
  },
  {
   "cell_type": "code",
   "execution_count": 39,
   "id": "e69df092",
   "metadata": {},
   "outputs": [
    {
     "data": {
      "text/plain": [
       "Text(0, 0.5, 'CDF = P(X <= X)')"
      ]
     },
     "execution_count": 39,
     "metadata": {},
     "output_type": "execute_result"
    },
    {
     "data": {
      "image/png": "[encoded data removed]",
      "text/plain": [
       "<Figure size 432x288 with 1 Axes>"
      ]
     },
     "metadata": {
      "needs_background": "light"
     },
     "output_type": "display_data"
    }
   ],
   "source": [
    "# We can see the above by plotting the cdf and adding a horizontal and vertical line corresponding to the value 1\n",
    "# and its associated probability. \n",
    "\n",
    "plt.plot(x_, cdf_, color = 'black')\n",
    "plt.vlines(1, 0, cdf_1, linestyle = \":\")\n",
    "plt.hlines(cdf_1, -5, 1, linestyle = \":\")\n",
    "plt.xlabel('X Values')\n",
    "plt.ylabel('CDF = P(X <= X)')"
   ]
  },
  {
   "cell_type": "markdown",
   "id": "1b288f7d",
   "metadata": {},
   "source": [
    "We can see above that if we input a value of 1 on the x-axis, we get out a probability of about 0.86 on the y-axis. "
   ]
  },
  {
   "cell_type": "code",
   "execution_count": 40,
   "id": "27150b1b",
   "metadata": {},
   "outputs": [
    {
     "data": {
      "text/plain": [
       "2.2509257827873084"
      ]
     },
     "execution_count": 40,
     "metadata": {},
     "output_type": "execute_result"
    }
   ],
   "source": [
    "# Now working in reverse, we are going to use the ppf to assess what value of X is not exceeded 99% of the time. \n",
    "# Similar to the above, we are this time going to use ppf and pass an argument of 0.99 to represent the probability\n",
    "# of interest. \n",
    "\n",
    "x_99 = stats.norm.ppf(0.99, loc = loc, scale = scale)\n",
    "x_99"
   ]
  },
  {
   "cell_type": "markdown",
   "id": "637f6d4e",
   "metadata": {},
   "source": [
    "We can see that 99% of the values in the variable X do not exceed the value 2.25. "
   ]
  },
  {
   "cell_type": "code",
   "execution_count": 41,
   "id": "8d2cd9bc",
   "metadata": {},
   "outputs": [
    {
     "data": {
      "text/plain": [
       "Text(0, 0.5, 'CDF = P(X <= X)')"
      ]
     },
     "execution_count": 41,
     "metadata": {},
     "output_type": "execute_result"
    },
    {
     "data": {
      "image/png": "[encoded data removed]",
      "text/plain": [
       "<Figure size 432x288 with 1 Axes>"
      ]
     },
     "metadata": {
      "needs_background": "light"
     },
     "output_type": "display_data"
    }
   ],
   "source": [
    "# We can see the above by plotting the cdf and adding a horizontal and vertical line corresponding to the probability 0.99\n",
    "# and its associated x-value. \n",
    "\n",
    "plt.plot(x_, cdf_, color = 'black')\n",
    "plt.vlines(x_99, 0, 0.99, linestyle = \":\")\n",
    "plt.hlines(0.99, -5, x_99, linestyle = \":\")\n",
    "plt.xlabel('X Values')\n",
    "plt.ylabel('CDF = P(X <= X)')"
   ]
  },
  {
   "cell_type": "markdown",
   "id": "3fdb2e2f",
   "metadata": {},
   "source": [
    "This time, working in reverse, if we input a value of 0.99 on the y-axis we can see that this relates to a value of 2.25 on the x-axis. "
   ]
  }
 ],
 "metadata": {
  "kernelspec": {
   "display_name": "Python 3 (ipykernel)",
   "language": "python",
   "name": "python3"
  },
  "language_info": {
   "codemirror_mode": {
    "name": "ipython",
    "version": 3
   },
   "file_extension": ".py",
   "mimetype": "text/x-python",
   "name": "python",
   "nbconvert_exporter": "python",
   "pygments_lexer": "ipython3",
   "version": "3.9.12"
  }
 },
 "nbformat": 4,
 "nbformat_minor": 5
}
