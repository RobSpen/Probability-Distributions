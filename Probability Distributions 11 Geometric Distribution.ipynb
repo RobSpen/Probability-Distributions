{
 "cells": [
  {
   "cell_type": "markdown",
   "id": "505d9736",
   "metadata": {},
   "source": [
    "# Geometric Distribution\n",
    "\n",
    "\n",
    "The geometric distribution is a discrete probability distribution that models the number of trials it takes before the first success occurs in repeated trials of some experiment/ event with a given probability of success on each trial. Similar to the binomial distribution, the trials here are known as Bernoulli trials, these are simply random experiments/ events where the outcome can be classified in exactly one of two possible ways: success or failure. Unlike the binomial distribution, the geometric distribution has no fixed number of trials. The geometric distribution is the discrete analog of the exponential distribution which models the elapsed time until one event occurs using a continuous probability model. \n",
    "\n",
    "In this notebook I will generate data that follows a geometric distribution, plot the geometric distribution, and investigate probabilities for data that follows the geometric distribution. As this distribution takes on discrete values to do this I will  use the Probability Mass Function (pmf). The Cumulative Distribution Function (cdf) to work out probabilities of it taking a certain number of trials or less before a success is observed for a given probability. "
   ]
  },
  {
   "cell_type": "code",
   "execution_count": 1,
   "id": "22f412da",
   "metadata": {},
   "outputs": [],
   "source": [
    "# Importing key software libraries\n",
    "\n",
    "import numpy as np\n",
    "import pandas as pd\n",
    "import scipy.stats as stats\n",
    "import matplotlib.pyplot as plt\n",
    "import seaborn as sns"
   ]
  },
  {
   "cell_type": "code",
   "execution_count": 2,
   "id": "6c6a684e",
   "metadata": {},
   "outputs": [],
   "source": [
    "# Generating data for a variable that follows a geometric distribution. Here I will use a sample size of 10,000\n",
    "# and a probability of success on each trial of 50% (0.5). This data would model events such as flipping a fair coin. \n",
    "# Here I have set a seed using random_state so that the results will be replicable. \n",
    "\n",
    "geo_var = stats.geom.rvs(size = 10000, p = 0.5, random_state = 12)"
   ]
  },
  {
   "cell_type": "code",
   "execution_count": 3,
   "id": "7400e0b1",
   "metadata": {},
   "outputs": [
    {
     "name": "stdout",
     "output_type": "stream",
     "text": [
      "col_0     1     2     3    4    5    6   7   8   9   10  11  12  15\n",
      "row_0                                                              \n",
      "counts  5052  2485  1212  629  329  141  69  38  14  16  10   4   1\n"
     ]
    }
   ],
   "source": [
    "# Creating a crosstable so we can see the frequency counts from our 10,000 trials showing how many times it took until\n",
    "# a success was observed on each trial. \n",
    "\n",
    "print(pd.crosstab(index = \"counts\", columns = geo_var))"
   ]
  },
  {
   "cell_type": "markdown",
   "id": "71d1d8fc",
   "metadata": {},
   "source": [
    "In the above table we can see that in just over 50% (5052/ 10000) of our trials a success was observed on the first trial. This would make sense given our success probability of p = 0.5. If we were modeling flips of a fair coin, about 50% of the time we would expect it to come up heads, if this was our success criterion. Higher number of trials before a success obviously occur less frequently but despite their low probability they are still possible. For example, on one occasion it took 15 flips before a success (heads). \n",
    "\n",
    "If we were modeling some other event/ experiment where the probability of success was different the shape of the distribution would change and would be influenced by whether the probability of success was higher or lower. The geometric distribution tends to take on a positively skewed appearance with the need for larger numbers of trials before a success occurring less often and having lower probabilites. "
   ]
  },
  {
   "cell_type": "code",
   "execution_count": 4,
   "id": "ff399221",
   "metadata": {},
   "outputs": [
    {
     "data": {
      "text/plain": [
       "<AxesSubplot:ylabel='Count'>"
      ]
     },
     "execution_count": 4,
     "metadata": {},
     "output_type": "execute_result"
    },
    {
     "data": {
      "image/png": "[encoded data removed]",
      "text/plain": [
       "<Figure size 432x288 with 1 Axes>"
      ]
     },
     "metadata": {
      "needs_background": "light"
     },
     "output_type": "display_data"
    }
   ],
   "source": [
    "# PLotting the distribution of our data using a histogram. \n",
    "\n",
    "sns.histplot(geo_var)"
   ]
  },
  {
   "cell_type": "code",
   "execution_count": 5,
   "id": "7434e320",
   "metadata": {},
   "outputs": [
    {
     "data": {
      "text/plain": [
       "0.03125"
      ]
     },
     "execution_count": 5,
     "metadata": {},
     "output_type": "execute_result"
    }
   ],
   "source": [
    "# We can use the pmf to check the probability of it taking a specific number of trials before a success. \n",
    "# Here, using the coin flip example with a fair coin. We use the scipy pmf method and pass in two arguments:\n",
    "# the number of flips we want to know the probability for (k) and the probability of success (e.g. p =0.5)\n",
    "# What is the probability it takes exactly 5 flips before a success is observed?\n",
    "stats.geom.pmf(k = 5, p = 0.5)"
   ]
  },
  {
   "cell_type": "markdown",
   "id": "0a23d52e",
   "metadata": {},
   "source": [
    "Above we see that there is only a 3% (p = 0.03) probability that we will see our first coin flip that lands on heads on exactly the fifth flip of the coin. "
   ]
  },
  {
   "cell_type": "code",
   "execution_count": 6,
   "id": "15d214c3",
   "metadata": {},
   "outputs": [
    {
     "data": {
      "text/plain": [
       "0.75"
      ]
     },
     "execution_count": 6,
     "metadata": {},
     "output_type": "execute_result"
    }
   ],
   "source": [
    "# We can also use the cdf to evaulate what the probability is that it would take a certain number of trials or less\n",
    "# before we see a success. To do this we can use the scipy cdf method and, like the pmf, pass in arguments for the\n",
    "# number of trials (k) and our probability of success for each trial. \n",
    "# Here we are asking what is the probability of it taking 2 or fewer trials before a success occurs. \n",
    "\n",
    "stats.geom.cdf(k = 2, p =0.5)"
   ]
  },
  {
   "cell_type": "markdown",
   "id": "e25c5165",
   "metadata": {},
   "source": [
    "When flipping a fair coin, we would expect a heads to come up on either the first or second flip about 75% of the time. \n",
    "\n",
    "If we wanted to know the probability of it taking more than 2 trials before success, this is just the complement of the above and can be calculated by (1 - cdf). Below, we can see that this is the remaining 25% (0.25) of our geometric probability distribution. "
   ]
  },
  {
   "cell_type": "code",
   "execution_count": 7,
   "id": "fe8ee12d",
   "metadata": {},
   "outputs": [
    {
     "data": {
      "text/plain": [
       "0.25"
      ]
     },
     "execution_count": 7,
     "metadata": {},
     "output_type": "execute_result"
    }
   ],
   "source": [
    "more_than_2 = stats.geom.cdf(k = 2, p =0.5)\n",
    "\n",
    "1 - more_than_2"
   ]
  },
  {
   "cell_type": "markdown",
   "id": "c93e38d5",
   "metadata": {},
   "source": [
    "\n",
    "### Summary:\n",
    "\n",
    "- The geometric distribution is a discrete probability distribution that models the number of trials it takes before a success, where each trial is independent and there is a fixed probability of success on each trial. \n",
    "- The outcome of each trial models a Bernoulli process that has exactly two outcomes (success or failure). \n",
    "- The geometric distribution is the discrete equivalent of the exponential distribution. "
   ]
  }
 ],
 "metadata": {
  "kernelspec": {
   "display_name": "Python 3 (ipykernel)",
   "language": "python",
   "name": "python3"
  },
  "language_info": {
   "codemirror_mode": {
    "name": "ipython",
    "version": 3
   },
   "file_extension": ".py",
   "mimetype": "text/x-python",
   "name": "python",
   "nbconvert_exporter": "python",
   "pygments_lexer": "ipython3",
   "version": "3.9.12"
  }
 },
 "nbformat": 4,
 "nbformat_minor": 5
}
