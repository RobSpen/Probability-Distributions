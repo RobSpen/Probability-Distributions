{
 "cells": [
  {
   "cell_type": "markdown",
   "id": "1a4e4f78",
   "metadata": {},
   "source": [
    "# Simulating a Data Frame\n",
    "\n",
    "\n",
    "There are several ways to simulate variables and data that follows certain distributions. In this notebook I will use a package called faker, along with numpy and pandas to simulate different types of data and then combine them all together in the pandas dataframe. "
   ]
  },
  {
   "cell_type": "code",
   "execution_count": 1,
   "id": "3804f88a",
   "metadata": {},
   "outputs": [],
   "source": [
    "# Starting with imports of the key libraries and packages. \n",
    "\n",
    "import pandas as pd\n",
    "import numpy as np\n",
    "\n",
    "import faker as fk"
   ]
  },
  {
   "cell_type": "code",
   "execution_count": 2,
   "id": "2e175a0e",
   "metadata": {},
   "outputs": [],
   "source": [
    "# Initialise a generator to create some fake data. \n",
    "\n",
    "fake = fk.Faker()"
   ]
  },
  {
   "cell_type": "code",
   "execution_count": 3,
   "id": "e225dd45",
   "metadata": {},
   "outputs": [
    {
     "data": {
      "text/html": [
       "<div>\n",
       "<style scoped>\n",
       "    .dataframe tbody tr th:only-of-type {\n",
       "        vertical-align: middle;\n",
       "    }\n",
       "\n",
       "    .dataframe tbody tr th {\n",
       "        vertical-align: top;\n",
       "    }\n",
       "\n",
       "    .dataframe thead th {\n",
       "        text-align: right;\n",
       "    }\n",
       "</style>\n",
       "<table border=\"1\" class=\"dataframe\">\n",
       "  <thead>\n",
       "    <tr style=\"text-align: right;\">\n",
       "      <th></th>\n",
       "      <th>Partic_ID</th>\n",
       "      <th>Partic_name</th>\n",
       "      <th>task_date</th>\n",
       "      <th>Score</th>\n",
       "      <th>Partic_status</th>\n",
       "      <th>Team</th>\n",
       "    </tr>\n",
       "  </thead>\n",
       "  <tbody>\n",
       "    <tr>\n",
       "      <th>0</th>\n",
       "      <td>1000</td>\n",
       "      <td>Samuel Mcfarland</td>\n",
       "      <td>2023-08-14</td>\n",
       "      <td>[5.400610358924553]</td>\n",
       "      <td>Part Time</td>\n",
       "      <td>OliveDrab</td>\n",
       "    </tr>\n",
       "    <tr>\n",
       "      <th>1</th>\n",
       "      <td>1001</td>\n",
       "      <td>Brian Hubbard MD</td>\n",
       "      <td>2023-02-07</td>\n",
       "      <td>[5.40501716348241]</td>\n",
       "      <td>Part Time</td>\n",
       "      <td>OliveDrab</td>\n",
       "    </tr>\n",
       "    <tr>\n",
       "      <th>2</th>\n",
       "      <td>1002</td>\n",
       "      <td>Amanda Reed</td>\n",
       "      <td>2023-05-01</td>\n",
       "      <td>[4.8841717662012565]</td>\n",
       "      <td>Part Time</td>\n",
       "      <td>HotPink</td>\n",
       "    </tr>\n",
       "    <tr>\n",
       "      <th>3</th>\n",
       "      <td>1003</td>\n",
       "      <td>Erin Moreno</td>\n",
       "      <td>2022-10-03</td>\n",
       "      <td>[3.0181825678246375]</td>\n",
       "      <td>Part Time</td>\n",
       "      <td>OliveDrab</td>\n",
       "    </tr>\n",
       "    <tr>\n",
       "      <th>4</th>\n",
       "      <td>1004</td>\n",
       "      <td>Jennifer Riddle</td>\n",
       "      <td>2023-06-10</td>\n",
       "      <td>[4.900996542283741]</td>\n",
       "      <td>Hourly</td>\n",
       "      <td>OliveDrab</td>\n",
       "    </tr>\n",
       "  </tbody>\n",
       "</table>\n",
       "</div>"
      ],
      "text/plain": [
       "   Partic_ID       Partic_name   task_date                 Score  \\\n",
       "0       1000  Samuel Mcfarland  2023-08-14   [5.400610358924553]   \n",
       "1       1001  Brian Hubbard MD  2023-02-07    [5.40501716348241]   \n",
       "2       1002       Amanda Reed  2023-05-01  [4.8841717662012565]   \n",
       "3       1003       Erin Moreno  2022-10-03  [3.0181825678246375]   \n",
       "4       1004   Jennifer Riddle  2023-06-10   [4.900996542283741]   \n",
       "\n",
       "  Partic_status       Team  \n",
       "0     Part Time  OliveDrab  \n",
       "1     Part Time  OliveDrab  \n",
       "2     Part Time    HotPink  \n",
       "3     Part Time  OliveDrab  \n",
       "4        Hourly  OliveDrab  "
      ]
     },
     "execution_count": 3,
     "metadata": {},
     "output_type": "execute_result"
    }
   ],
   "source": [
    "# Next I will define a function to create some fake values and variables.\n",
    "# The p and associated list of values for Partic_status gives the proportions of each of the status list categories\n",
    "# in the dataset (E.g. 0.5 (50%) of participants are in the Full Time group).\n",
    "\n",
    "\n",
    "def make_participants(num):\n",
    "    \n",
    "    # Lists to randomly asisng to participants\n",
    "    status_list = [\"Full Time\", \"Part Time\", \"Hourly\"]\n",
    "    team_list = [fake.color_name() for x in range (4)]\n",
    "    \n",
    "    \n",
    "    fake_participants = [{'Partic_ID': x+1000, \n",
    "                         'Partic_name': fake.name(),\n",
    "                         'task_date': fake.date_between(start_date = '-1y', end_date = 'today'),\n",
    "                         'Score': np.random.normal(loc = 5, scale = 1, size = 1),\n",
    "                         'Partic_status': np.random.choice(status_list, p = [0.5, 0.3, 0.2]),\n",
    "                         'Team': np.random.choice(team_list)} for x in range(num)]\n",
    "    \n",
    "    return fake_participants\n",
    "\n",
    "# The different variables created above are then pulled together in a pandas Data Frame object. \n",
    "\n",
    "participant_df = pd.DataFrame(make_participants(num = 1000))\n",
    "\n",
    "participant_df.head()"
   ]
  },
  {
   "cell_type": "markdown",
   "id": "bcf6aaf2",
   "metadata": {},
   "source": [
    "Above, we can see that, using faker, numpy and pandas, we have created a data frame of simulated data for different types of variables (scale, categorical, date_time) with 1000 participants. "
   ]
  }
 ],
 "metadata": {
  "kernelspec": {
   "display_name": "Python 3 (ipykernel)",
   "language": "python",
   "name": "python3"
  },
  "language_info": {
   "codemirror_mode": {
    "name": "ipython",
    "version": 3
   },
   "file_extension": ".py",
   "mimetype": "text/x-python",
   "name": "python",
   "nbconvert_exporter": "python",
   "pygments_lexer": "ipython3",
   "version": "3.9.12"
  }
 },
 "nbformat": 4,
 "nbformat_minor": 5
}
