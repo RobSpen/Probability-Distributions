{
 "cells": [
  {
   "cell_type": "markdown",
   "id": "80608c02",
   "metadata": {},
   "source": [
    "# Binomial Distribution\n",
    "\n",
    "The Binomial probability model has a wide range of uses in the real world. Binomial is associated with situations where there are two outcomes, frequently labeled success or failure. Research often involves quantifying the probability that an event occurs, the percentage of successes in a population, or the likelihood of certain outcomes that can be classed as success or failure. \n",
    "\n",
    "Each probability model has its own set of properties. In order for a random variable to be considered to have the properties or characteristics of a binomial distribution it must meet the following conditions:\n",
    "\n",
    "- A random process with a fixed number of trials (n).\n",
    "- The outcome of each trial can be classified as success or failure. \n",
    "- The probability of success (p) is the same for each trial.\n",
    "- The trials are independent, so, the outcome of one trial does not influence the result of the next. \n",
    "\n",
    "In this notebook I will demonstrate how to simulate data and variables that follows the binomial distribution."
   ]
  },
  {
   "cell_type": "markdown",
   "id": "7bc4f685",
   "metadata": {},
   "source": [
    "### Calculating the binomial manually"
   ]
  },
  {
   "cell_type": "markdown",
   "id": "4e3a81cc",
   "metadata": {},
   "source": [
    "The binomial distribution has a Probability Mass Function (pmf), it is a discrete distribution as it can only take on certain values (success or failure) and it cannot take on continuous real number values. The pmf is based on k successes in n trials with a probability p of success on each trial.  "
   ]
  },
  {
   "cell_type": "markdown",
   "id": "a0c7ed77",
   "metadata": {},
   "source": [
    "The pmf for a random variable X is:\n",
    "\n",
    "$${𝑛^𝑐𝑥}  {𝑝^x}{(1−𝑝)}^{𝑛−𝑥}$$\n",
    " \n",
    "This formula uses the binomial coefficient: $${𝑛^𝑐𝑥}$$ \n",
    "This is often referred to as n choose x. Meaning, from n trials choose x number of successes. Calculating this coefficient makes use of the factorial operator (!) where the specifed number is multiplied by all preceding lower values.\n",
    "\n",
    "The formula for the binomial coefficient is:\n",
    "\n",
    "$${𝑛!}/{𝑥!(𝑛−𝑥)!}$$"
   ]
  },
  {
   "cell_type": "markdown",
   "id": "10010af2",
   "metadata": {},
   "source": [
    "#### Calculating the factorial of a number"
   ]
  },
  {
   "cell_type": "code",
   "execution_count": 1,
   "id": "d1eade1f",
   "metadata": {},
   "outputs": [],
   "source": [
    "# If we are calculating the binomial manually without using any software libraries we\n",
    "# need to calculate the binomial coefficient shown above. \n",
    "\n",
    "# Python core/ base does not have a factorial operator so we first need to define a function that performs the\n",
    "# factorial calculation. \n",
    "\n",
    "def factorial(x):\n",
    "    f = 1\n",
    "    for i in range(x):\n",
    "        f = f * (i+1)\n",
    "    return f"
   ]
  },
  {
   "cell_type": "code",
   "execution_count": 2,
   "id": "8e5a3ec3",
   "metadata": {},
   "outputs": [
    {
     "data": {
      "text/plain": [
       "6"
      ]
     },
     "execution_count": 2,
     "metadata": {},
     "output_type": "execute_result"
    }
   ],
   "source": [
    "# Testing this function works using some arbitrary numbers. \n",
    "# This calculation works as: 3x2x1 = 6\n",
    "\n",
    "factorial(3)"
   ]
  },
  {
   "cell_type": "code",
   "execution_count": 3,
   "id": "b314296a",
   "metadata": {},
   "outputs": [
    {
     "data": {
      "text/plain": [
       "24"
      ]
     },
     "execution_count": 3,
     "metadata": {},
     "output_type": "execute_result"
    }
   ],
   "source": [
    "# E.g. 4x3x2x1 = 24\n",
    "factorial(4)"
   ]
  },
  {
   "cell_type": "code",
   "execution_count": 4,
   "id": "ee87a612",
   "metadata": {},
   "outputs": [
    {
     "data": {
      "text/plain": [
       "40320"
      ]
     },
     "execution_count": 4,
     "metadata": {},
     "output_type": "execute_result"
    }
   ],
   "source": [
    "# E.g. 8! = 8x7x6x5x4x3x2x1 = 40320\n",
    "factorial(8)"
   ]
  },
  {
   "cell_type": "code",
   "execution_count": 5,
   "id": "3d109009",
   "metadata": {},
   "outputs": [],
   "source": [
    "# Recursion can also be used as an alternative method to calculate the factorial of a number.\n",
    "\n",
    "def factorial_v2(x):\n",
    "    if x == 1:\n",
    "        return 1\n",
    "    else:\n",
    "        return (x * factorial_v2(x-1))\n"
   ]
  },
  {
   "cell_type": "code",
   "execution_count": 6,
   "id": "2b56b701",
   "metadata": {},
   "outputs": [
    {
     "data": {
      "text/plain": [
       "6"
      ]
     },
     "execution_count": 6,
     "metadata": {},
     "output_type": "execute_result"
    }
   ],
   "source": [
    "# We can see this works and gives the same result as the previous method. \n",
    "factorial_v2(3)"
   ]
  },
  {
   "cell_type": "code",
   "execution_count": 7,
   "id": "371f824b",
   "metadata": {},
   "outputs": [
    {
     "data": {
      "text/plain": [
       "24"
      ]
     },
     "execution_count": 7,
     "metadata": {},
     "output_type": "execute_result"
    }
   ],
   "source": [
    "factorial_v2(4)"
   ]
  },
  {
   "cell_type": "code",
   "execution_count": 9,
   "id": "d91d1d5f",
   "metadata": {},
   "outputs": [
    {
     "data": {
      "text/plain": [
       "40320"
      ]
     },
     "execution_count": 9,
     "metadata": {},
     "output_type": "execute_result"
    }
   ],
   "source": [
    "factorial_v2(8)"
   ]
  },
  {
   "cell_type": "markdown",
   "id": "3f188c78",
   "metadata": {},
   "source": [
    "#### Calculating the binomial coefficient"
   ]
  },
  {
   "cell_type": "markdown",
   "id": "ad8b62e8",
   "metadata": {},
   "source": [
    "We can now make use of the factorial function we created above as part of a function that gives us the binomila coefficient. Here the function will take two values as arguments. The first will be the number of trials (n) and the second will be the number of successes (x). "
   ]
  },
  {
   "cell_type": "code",
   "execution_count": 10,
   "id": "e5a6a461",
   "metadata": {},
   "outputs": [],
   "source": [
    "# Defining a function that gives us the binomial coefficient for n choose k. \n",
    "\n",
    "def binomcoef(n, x):\n",
    "    comb = factorial(n) / (factorial(x) * factorial(n - x))\n",
    "    return comb"
   ]
  },
  {
   "cell_type": "code",
   "execution_count": 11,
   "id": "fdc4ab1a",
   "metadata": {},
   "outputs": [
    {
     "data": {
      "text/plain": [
       "45.0"
      ]
     },
     "execution_count": 11,
     "metadata": {},
     "output_type": "execute_result"
    }
   ],
   "source": [
    "# Testing the binomcoef function using arbitrary choices. e.g. 10 trial and 2 successes.  \n",
    "binomcoef(10, 2)"
   ]
  },
  {
   "cell_type": "markdown",
   "id": "58c02c4e",
   "metadata": {},
   "source": [
    "#### Obtaining the Probability Mass Function (pmf)\n"
   ]
  },
  {
   "cell_type": "code",
   "execution_count": 12,
   "id": "cb289d9c",
   "metadata": {},
   "outputs": [],
   "source": [
    "# To obtain the pmf for the binomial distribution we need to define a function that takes\n",
    "# arguments for number of trials (n), number of successes (x), and probability (p) of success on each trial. \n",
    "\n",
    "def binom_pmf(n, x, p):\n",
    "    return binomcoef(n, x) * p**x * (1-p)**(n-x)"
   ]
  },
  {
   "cell_type": "code",
   "execution_count": 13,
   "id": "0ce38801",
   "metadata": {},
   "outputs": [
    {
     "data": {
      "text/plain": [
       "0.2001209489999999"
      ]
     },
     "execution_count": 13,
     "metadata": {},
     "output_type": "execute_result"
    }
   ],
   "source": [
    "# Now testing the binom_pmf function using arbitrary values of 10 trials (n=10), 4 successes (x=4), and a probability\n",
    "# of success on each trial of 0.3 (p=0.3).\n",
    "\n",
    "binom_pmf(10, 4, 0.3)"
   ]
  },
  {
   "cell_type": "markdown",
   "id": "50f34ea5",
   "metadata": {},
   "source": [
    "We can see above that the probability of 4 success from 10 trials with a success probability per trial of 0.3 is about 0.2 or 20%. "
   ]
  },
  {
   "cell_type": "markdown",
   "id": "feba3537",
   "metadata": {},
   "source": [
    "#### Obtaining the Cumulative Density Function (cdf)\n",
    "\n",
    "The binomial cumulative density function (cdf) tells us the probability of some number of successes (x) or less from n trials. To calculate the binomial cdf we make use of the pmf. One difference is that the formula for the cdf makes use of a floor operator. The floor operator rounds a floating point decimal number towards 0 if it is positive and away from 0 if it is negative. It rounds to an integer that is less than or equal to a given value. This fits with the usage of the cdf that tells us the probability that x has a value x or lower. "
   ]
  },
  {
   "cell_type": "code",
   "execution_count": 14,
   "id": "b6c0661e",
   "metadata": {},
   "outputs": [],
   "source": [
    "# First, I will define a function that carries out the floor operation by rounding down. \n",
    "# The below function takes positive values of x and rounds them down to the nearest integer. \n",
    "# It takes negative values of x and rounds them down to the next smallest integer (away from 0).\n",
    "\n",
    "def floor_op(x):\n",
    "    if x >= 0:\n",
    "        f = int(x)\n",
    "    else:\n",
    "        f = int(x)-1\n",
    "    return f"
   ]
  },
  {
   "cell_type": "code",
   "execution_count": 15,
   "id": "4d0ff9ef",
   "metadata": {},
   "outputs": [
    {
     "data": {
      "text/plain": [
       "5"
      ]
     },
     "execution_count": 15,
     "metadata": {},
     "output_type": "execute_result"
    }
   ],
   "source": [
    "# Testing this function on a positive value of x.\n",
    "# We can see it rounds down to the integer below. The floor of the decimal value. \n",
    "floor_op(5.7)"
   ]
  },
  {
   "cell_type": "code",
   "execution_count": 16,
   "id": "832fa90b",
   "metadata": {},
   "outputs": [
    {
     "data": {
      "text/plain": [
       "-4"
      ]
     },
     "execution_count": 16,
     "metadata": {},
     "output_type": "execute_result"
    }
   ],
   "source": [
    "# Testing this function with a negative value of x. \n",
    "# We can see it rounds down to the next smallest integer, away from 0. \n",
    "floor_op(-3.4)"
   ]
  },
  {
   "cell_type": "markdown",
   "id": "2a297649",
   "metadata": {},
   "source": [
    "With the above function for the floor operator, we can now incorporate this into a function that gives us the binomial cdf."
   ]
  },
  {
   "cell_type": "code",
   "execution_count": 17,
   "id": "442575ef",
   "metadata": {},
   "outputs": [],
   "source": [
    "# Defining a function to calculate the binomial cdf.\n",
    "\n",
    "def binom_cdf(n, x, p):\n",
    "    p_val = 0\n",
    "    x_floor = floor_op(x)\n",
    "    for i in range(x_floor+1):\n",
    "        p_val = p_val + binom_pmf(n, i, p)\n",
    "    return p_val"
   ]
  },
  {
   "cell_type": "code",
   "execution_count": 18,
   "id": "0d222e01",
   "metadata": {},
   "outputs": [
    {
     "data": {
      "text/plain": [
       "0.8497316673999995"
      ]
     },
     "execution_count": 18,
     "metadata": {},
     "output_type": "execute_result"
    }
   ],
   "source": [
    "# Calling the function using the example of 4 successes from 10 trials, with a success probability of 0.3\n",
    "# for each trial. \n",
    "\n",
    "binom_cdf(10, 4, 0.3)"
   ]
  },
  {
   "cell_type": "markdown",
   "id": "bc164ff4",
   "metadata": {},
   "source": [
    "We can see, using the cdf for the binomial distribution, that the probability of getting 4 successes or less from 10 trials with a success probability of 0.3 on each trial is about 0.85. Approximately an 85% chance of seeing 4 successes or less on trials with the specified success probability. "
   ]
  }
 ],
 "metadata": {
  "kernelspec": {
   "display_name": "Python 3 (ipykernel)",
   "language": "python",
   "name": "python3"
  },
  "language_info": {
   "codemirror_mode": {
    "name": "ipython",
    "version": 3
   },
   "file_extension": ".py",
   "mimetype": "text/x-python",
   "name": "python",
   "nbconvert_exporter": "python",
   "pygments_lexer": "ipython3",
   "version": "3.9.12"
  }
 },
 "nbformat": 4,
 "nbformat_minor": 5
}
