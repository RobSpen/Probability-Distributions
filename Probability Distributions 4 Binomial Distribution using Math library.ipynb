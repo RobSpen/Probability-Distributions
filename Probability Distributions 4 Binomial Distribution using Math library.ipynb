{
 "cells": [
  {
   "cell_type": "markdown",
   "id": "71acee1d",
   "metadata": {},
   "source": [
    "# Binomial Distribution using the Python Math Library\n",
    "\n",
    "\n",
    "The binomial distribution can be used to model real world scenarios where the events can be classified as one of two possible outcomes (success or failure). Using the binomial we can calculate the probability of obtaining a given number of success (x) from a fixed number of trials (n), with a probability (p) of success on each trial that does not change and the outcome of each trial is independent of all previous trials.\n",
    "\n",
    "In this notebook I will use the binomial distribution to calculate probabilities. Specifically, I will use the Probability Mass Function for the binomial and the Cumulative Distribution Function to obtain probabilities. On this occasion I will make use of the python Math library to calculate and wirk with the binomial distribution."
   ]
  },
  {
   "cell_type": "code",
   "execution_count": 1,
   "id": "74ed8b8f",
   "metadata": {},
   "outputs": [],
   "source": [
    "# Importing the math software library. \n",
    "\n",
    "import math"
   ]
  },
  {
   "cell_type": "markdown",
   "id": "394fbc1a",
   "metadata": {},
   "source": [
    "The math libary does not have a function for the binomial distribution directly but it contains useful function that are needed to calculate the binomial. It contains a function called comb which gives us the binomial coefficient (n choose k: From n trials choose k number of successes). This makes life easier as it allows us to use the comb function when defining a function that calculates the Probability Mass Function (pmf) for the binomial. "
   ]
  },
  {
   "cell_type": "code",
   "execution_count": 2,
   "id": "0d066c57",
   "metadata": {},
   "outputs": [],
   "source": [
    "# Defining a function for the binomial pmf, making use of the comb function. Comb is likely an abbreviation for combinatorial.\n",
    "def binom_pmf(n, x, p):\n",
    "    return math.comb(n, x) * p**x * (1-p)**(n-x)"
   ]
  },
  {
   "cell_type": "code",
   "execution_count": 3,
   "id": "dcfccc78",
   "metadata": {},
   "outputs": [
    {
     "data": {
      "text/plain": [
       "0.2001209489999999"
      ]
     },
     "execution_count": 3,
     "metadata": {},
     "output_type": "execute_result"
    }
   ],
   "source": [
    "# Testing the binomial_pmf function with 4 successes from 10 trials and a success probability per trial of 0.3. \n",
    "\n",
    "binom_pmf(10, 4, 0.3)"
   ]
  },
  {
   "cell_type": "markdown",
   "id": "1881da34",
   "metadata": {},
   "source": [
    "We can see above that the probability of getting four successes from 10 trials, when p = 0.3, is about 0.2 or 20%."
   ]
  },
  {
   "cell_type": "markdown",
   "id": "9157e404",
   "metadata": {},
   "source": [
    "To obtain the binomial Cumulative Distribution Function (cdf) we need to sum over all values of the pmf. To do this we need to make use of a floor operator. This is a mathematical operation that rounds positive decimals down to the nearest integer value and negative decimals away from zero. The Math library has a floor function that we can make use of to do this. "
   ]
  },
  {
   "cell_type": "code",
   "execution_count": 4,
   "id": "9f883fb1",
   "metadata": {},
   "outputs": [],
   "source": [
    "# Defining a function for the binomial cdf. Making use of the floor method contained within the math library. \n",
    "\n",
    "def binom_cdf(n, x, p):\n",
    "    p_val = 0\n",
    "    x_floor = math.floor(x)\n",
    "    for i in range(x_floor+1):\n",
    "        p_val = p_val + binom_pmf(n, i, p)\n",
    "    return p_val"
   ]
  },
  {
   "cell_type": "code",
   "execution_count": 5,
   "id": "30d23eb1",
   "metadata": {},
   "outputs": [
    {
     "data": {
      "text/plain": [
       "0.8497316673999995"
      ]
     },
     "execution_count": 5,
     "metadata": {},
     "output_type": "execute_result"
    }
   ],
   "source": [
    "binom_cdf(10, 4, 0.3)"
   ]
  },
  {
   "cell_type": "markdown",
   "id": "244e0491",
   "metadata": {},
   "source": [
    "The cdf for the binomial gives us the probability of getting x or fewer successes from n trials. In this case, the probability of getting 4 or fewer successes from 10 trials, with a success probability on each trial of 0.3, is about 0.85 or 85%. "
   ]
  }
 ],
 "metadata": {
  "kernelspec": {
   "display_name": "Python 3 (ipykernel)",
   "language": "python",
   "name": "python3"
  },
  "language_info": {
   "codemirror_mode": {
    "name": "ipython",
    "version": 3
   },
   "file_extension": ".py",
   "mimetype": "text/x-python",
   "name": "python",
   "nbconvert_exporter": "python",
   "pygments_lexer": "ipython3",
   "version": "3.9.12"
  }
 },
 "nbformat": 4,
 "nbformat_minor": 5
}
