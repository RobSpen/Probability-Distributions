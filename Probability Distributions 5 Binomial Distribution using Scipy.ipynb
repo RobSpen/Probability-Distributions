{
 "cells": [
  {
   "cell_type": "markdown",
   "id": "d1d25287",
   "metadata": {},
   "source": [
    "# Binomial Probability Distribution using the Scipy Library\n",
    "\n",
    "In previous notebooks, I have demonstrated how to create functions to obtain the Probability Mass Function (pmf) and Cumulative Distribution Function (cdf) for the Binomial distribution. These allow us to calculate probabilities for random variables that follow the binomial distribution and model processes where we are interested in the probability of a given number of successes from a fixed number of trials, where each trial is independent and has the same success probability. \n",
    "\n",
    "In this notebook, I will again obtain the pmf and cdf for the binomial distribution in Python, but this time I will use the Scipy software library. "
   ]
  },
  {
   "cell_type": "markdown",
   "id": "25a5c9da",
   "metadata": {},
   "source": [
    "The Scipy software library makes it very easy for us to work with probability distributions. To make use of the binomial distribution we need to use a scipy method called binom. "
   ]
  },
  {
   "cell_type": "code",
   "execution_count": 1,
   "id": "f3a14cf9",
   "metadata": {},
   "outputs": [],
   "source": [
    "# Importing the binom method from scipy stats module. \n",
    "\n",
    "from scipy.stats import binom"
   ]
  },
  {
   "cell_type": "markdown",
   "id": "dd23fa7d",
   "metadata": {},
   "source": [
    "Let us use an example where we want to work out the probability of getting 4 successes from 10 trials, with a probability of success on each trial set to 0.3 (30%). Calling the binom pmf method will tell us the probability of getting exactly 4 successes from 10 trials. "
   ]
  },
  {
   "cell_type": "markdown",
   "id": "f6289193",
   "metadata": {},
   "source": [
    "The number of trials is 10 (n = 10), number of successes is 4 (k = 4), the success probability per trial is 0.3 (p = 0.3)."
   ]
  },
  {
   "cell_type": "code",
   "execution_count": 2,
   "id": "06459c8d",
   "metadata": {},
   "outputs": [
    {
     "data": {
      "text/plain": [
       "0.2001209489999999"
      ]
     },
     "execution_count": 2,
     "metadata": {},
     "output_type": "execute_result"
    }
   ],
   "source": [
    "# Using the binom.pmf method. Note the order if argument (successes, trials, probability). \n",
    "\n",
    "binom.pmf(4, 10, 0.3)"
   ]
  },
  {
   "cell_type": "markdown",
   "id": "2fd9e459",
   "metadata": {},
   "source": [
    "Here we can see that the probability is about 0.2 or 20%. "
   ]
  },
  {
   "cell_type": "markdown",
   "id": "15630918",
   "metadata": {},
   "source": [
    "The cdf is also available as a method using binom.cdf. This will tell us the cumulative probability of getting at least 4 successes from 10 trials with a probability of success of 0.3 on each trial. "
   ]
  },
  {
   "cell_type": "code",
   "execution_count": 3,
   "id": "df3cf155",
   "metadata": {},
   "outputs": [
    {
     "data": {
      "text/plain": [
       "0.8497316674000001"
      ]
     },
     "execution_count": 3,
     "metadata": {},
     "output_type": "execute_result"
    }
   ],
   "source": [
    "# Using binom.cdf method. Again, note the order of arguments (successes, trials, probability).\n",
    "\n",
    "binom.cdf(4, 10, 0.3)"
   ]
  },
  {
   "cell_type": "markdown",
   "id": "77088a95",
   "metadata": {},
   "source": [
    "We get a result that tell us the cumulative probability of getting 4 successes or lower is about 0.849 or 85%. "
   ]
  },
  {
   "cell_type": "markdown",
   "id": "45b63a0f",
   "metadata": {},
   "source": [
    "A further useful method that we can use with the scipy binom method is something called survival function. This is the complement of the cdf (1 - cdf). It tells use the probability that we won't get x or fewer successes from n trials, with a probability of success on each trial of p.\n",
    "\n",
    "Again, using the above example values, 4 successes in 10 trials, with a success probabilty of 0.3."
   ]
  },
  {
   "cell_type": "code",
   "execution_count": 4,
   "id": "ec18a641",
   "metadata": {},
   "outputs": [
    {
     "data": {
      "text/plain": [
       "0.15026833259999992"
      ]
     },
     "execution_count": 4,
     "metadata": {},
     "output_type": "execute_result"
    }
   ],
   "source": [
    "# Calling the binom.sf survival function. \n",
    "\n",
    "binom.sf(4, 10, 0.3)"
   ]
  },
  {
   "cell_type": "markdown",
   "id": "9f4b72a5",
   "metadata": {},
   "source": [
    "The output shows the probability of not getting 4 or fewer successes is about 15%. Note, this is the complement of the 85% probability given by the cdf. "
   ]
  },
  {
   "cell_type": "markdown",
   "id": "5712526d",
   "metadata": {},
   "source": [
    "If we add the survival function probability and the cdf probability, they will sum to 1. "
   ]
  }
 ],
 "metadata": {
  "kernelspec": {
   "display_name": "Python 3 (ipykernel)",
   "language": "python",
   "name": "python3"
  },
  "language_info": {
   "codemirror_mode": {
    "name": "ipython",
    "version": 3
   },
   "file_extension": ".py",
   "mimetype": "text/x-python",
   "name": "python",
   "nbconvert_exporter": "python",
   "pygments_lexer": "ipython3",
   "version": "3.9.12"
  }
 },
 "nbformat": 4,
 "nbformat_minor": 5
}
