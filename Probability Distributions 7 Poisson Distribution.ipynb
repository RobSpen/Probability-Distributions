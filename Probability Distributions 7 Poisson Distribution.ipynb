{
 "cells": [
  {
   "cell_type": "markdown",
   "id": "3217d010",
   "metadata": {},
   "source": [
    "# Poisson Distribution\n",
    "\n",
    "The Poisson Distribution is a discrete probability distribution, it gives the probability of an event happening a certain number of times (k) within a given time interval. The Poisson has only one parameter lambda (λ) which is a rate. It is the mean number of events that occur in a given time period. An interesting feature of the Poisson distribution is that the mean and variance of the distribution are the same, they are both the value of lambda. \n",
    "\n",
    "In this notebook I will simulate data that follows a Poisson distribution and investigate that distribution using the Probability Mass Function (pmf) and Cumulative Density Function (cdf) to obtain the probabilities of different outcomes. "
   ]
  },
  {
   "cell_type": "code",
   "execution_count": 1,
   "id": "fc68a518",
   "metadata": {},
   "outputs": [],
   "source": [
    "# Importing key software libraries. \n",
    "\n",
    "import pandas as pd\n",
    "import numpy as np\n",
    "import scipy.stats as stats\n",
    "import matplotlib.pyplot as plt"
   ]
  },
  {
   "cell_type": "markdown",
   "id": "eaa25796",
   "metadata": {},
   "source": [
    "The Poisson distribution is useful when we are trying to work out the rate at which events occur. So, this could be the frequency with which a certain event occurs in a year. For example, the number of vehicle accidents in a year. Although the Poisson is a discrete probability distribution, as its main parameter is the average number of events in a given interval, that mean can take on real number values and will not just be an integer value. This is still useful although we cannot have fractional occurrences of the events that are being recorded. For example, we can't have half a car accident or a quarter of a car accident. As is generally the case when you average over discrete integer count values you often get a continuous real number average. \n",
    "\n",
    "I the following section I am going to use the scipy poisson method to generate data with a Poisson distribution and then use the scipy pmf and cdf methods to interrogate that distribution. "
   ]
  },
  {
   "cell_type": "code",
   "execution_count": 2,
   "id": "ae483f28",
   "metadata": {},
   "outputs": [
    {
     "data": {
      "text/plain": [
       "array([1, 1, 1, 0, 1, 0, 2, 1, 3, 0, 1, 1, 0, 1, 0, 0, 1, 0, 2, 2])"
      ]
     },
     "execution_count": 2,
     "metadata": {},
     "output_type": "execute_result"
    }
   ],
   "source": [
    "# Simulating some data using the scipy poisson method. The arguments for this method are lambda and the size\n",
    "# of the sample we are seeking to generate. Here I have specified a mean (lambda) of 1.2 and a data sample size\n",
    "# of 100,000 observations. There are many different exmaples we could consider to illustrate data that follows\n",
    "# a Poisson process in the real world. Sticking with the vehicle accident example, this could be the average number of\n",
    "# accidents each driver has per year. \n",
    "# Note: Here I am using the scipy random variates (rvs) method to simulate this data.\n",
    "# I have specified an additional parameter of random_state as equal to 2. This will allow the results to be replicable\n",
    "# by setting a seed for the pseudo-random number generation process.  \n",
    "\n",
    "pois_rvs = stats.poisson.rvs(1.2, size = 100000, random_state = 2)\n",
    "\n",
    "# Obtaining a printout of the first twenty values in the array. \n",
    "pois_rvs[:20]"
   ]
  },
  {
   "cell_type": "markdown",
   "id": "b9321b8e",
   "metadata": {},
   "source": [
    "Note that the above values are all integers, although the mean (lambda) parameter we specified was a decimal floating point number (1.2). This is obviously a statistical property as you can't have partial accidents. \n",
    "\n",
    "If we obtain the mean for our data we can see that it is very close to the value of 1.2 that we specified when generating the data. "
   ]
  },
  {
   "cell_type": "code",
   "execution_count": 3,
   "id": "2eb0edc9",
   "metadata": {},
   "outputs": [
    {
     "data": {
      "text/plain": [
       "1.19286"
      ]
     },
     "execution_count": 3,
     "metadata": {},
     "output_type": "execute_result"
    }
   ],
   "source": [
    "# Mean (lambda) value for our data array. \n",
    "pois_rvs.mean()"
   ]
  },
  {
   "cell_type": "code",
   "execution_count": 4,
   "id": "8764b499",
   "metadata": {},
   "outputs": [],
   "source": [
    "# So that we can plot this more easily and visualise the distribution, I am going to convert it to a pandas series\n",
    "# by wrapping it in the pandas series method.\n",
    "\n",
    "pois_rvs = pd.Series(stats.poisson.rvs(1.2, size = 100000, random_state = 2))"
   ]
  },
  {
   "cell_type": "code",
   "execution_count": 5,
   "id": "90d33c42",
   "metadata": {},
   "outputs": [
    {
     "data": {
      "text/plain": [
       "1    36084\n",
       "0    30473\n",
       "2    21486\n",
       "3     8565\n",
       "4     2596\n",
       "5      647\n",
       "6      128\n",
       "7       20\n",
       "8        1\n",
       "dtype: int64"
      ]
     },
     "execution_count": 5,
     "metadata": {},
     "output_type": "execute_result"
    }
   ],
   "source": [
    "# I am also going to create an additional variable object giving the counts of different values in the data. \n",
    "\n",
    "pois_count = pois_rvs.value_counts()\n",
    "\n",
    "pois_count"
   ]
  },
  {
   "cell_type": "markdown",
   "id": "5083fdc7",
   "metadata": {},
   "source": [
    "We can see from the above value counts in the data that the most frequent occurrence was 1 accident, that happened 36084 times in the year, the second highest was 0 accidents that occurred 30473 times. Note that the value counts output is printed in descending order. This are the values we will use to create a histogram plot showing the proportion/ probability of each event. To do this we want to order the values based on the index rather than actual counts. So the x-axis will have our possible outcomes in ascending order.  "
   ]
  },
  {
   "cell_type": "code",
   "execution_count": 6,
   "id": "b411c6f7",
   "metadata": {},
   "outputs": [
    {
     "data": {
      "text/plain": [
       "{0: 30473, 1: 36084, 2: 21486, 3: 8565, 4: 2596, 5: 647, 6: 128, 7: 20, 8: 1}"
      ]
     },
     "execution_count": 6,
     "metadata": {},
     "output_type": "execute_result"
    }
   ],
   "source": [
    "# To reorder the above count data we are going to sort the data based on index and then set the pois_count object\n",
    "# to a dictionary showing key: value pairings. \n",
    "# Note: We could have done all this in one line above but I am walking through each step to make the manipulation of the\n",
    "# data explicit. \n",
    "\n",
    "pois_count = pois_rvs.value_counts().sort_index().to_dict()\n",
    "\n",
    "pois_count"
   ]
  },
  {
   "cell_type": "markdown",
   "id": "b64647c0",
   "metadata": {},
   "source": [
    "Above, we can now see that each of our outcome values (Accidents: 0, 1, 2, etc.) and the frequency with which it occurred in our data are saved as a python dictionary as shown by the curly braces. \n",
    "\n",
    "Next we will plot the data so we can see the shape of the distribution. on this occasion I will use matplotlib to create a barplot that is analogous to a histogram if we were to normalise our data. "
   ]
  },
  {
   "cell_type": "code",
   "execution_count": 7,
   "id": "adc47a8e",
   "metadata": {},
   "outputs": [
    {
     "data": {
      "image/png": "[encoded data removed]",
      "text/plain": [
       "<Figure size 1152x432 with 1 Axes>"
      ]
     },
     "metadata": {
      "needs_background": "light"
     },
     "output_type": "display_data"
    }
   ],
   "source": [
    "fig, ax = plt.subplots(figsize = (16, 6))\n",
    "ax.bar(range(len(pois_count)), list(pois_count.values()), align = 'center')\n",
    "plt.xticks(range(len(pois_count)), list(pois_count.keys()))\n",
    "plt.show()"
   ]
  },
  {
   "cell_type": "markdown",
   "id": "f47bd772",
   "metadata": {},
   "source": [
    "We can see that the distribution of our data is postively skewed with larger frequencies (and probabilities) of events at lower values and very few observations of events occurring at higher values. Sticking with our accident example, most of our participants had 0, 1, or 2 accidents in a year (given time period) and fewer had multiple car accidents. The shape of this distribution is very typical of data that has the characteristics of a Poisson process. \n",
    "\n",
    "We can investigate its properties further using the pmf. "
   ]
  },
  {
   "cell_type": "code",
   "execution_count": 8,
   "id": "cba1ff59",
   "metadata": {},
   "outputs": [],
   "source": [
    "# Defining a function that calculates the Probability Mass Function (pmf) for the poisson. \n",
    "# The function will take two arguments (number of events, lambda) and return a probability of seeing that number\n",
    "# of events given the rate (lambda). \n",
    "# The equation in the function is that for the pmf of the Poisson distribution that can be found in most probability\n",
    "# and statistics textbooks. \n",
    "\n",
    "def poiss_pmf(k, lam):\n",
    "    return (lam ** k * np.exp(-lam)) / np.math.factorial(k)"
   ]
  },
  {
   "cell_type": "code",
   "execution_count": 9,
   "id": "641cfd70",
   "metadata": {},
   "outputs": [
    {
     "data": {
      "text/plain": [
       "0.30119421191220214"
      ]
     },
     "execution_count": 9,
     "metadata": {},
     "output_type": "execute_result"
    }
   ],
   "source": [
    "# We can now call the above function for the pmf and pass arguments to find the probability of a particular value.\n",
    "# For example, if we wanted to know the probability of observing 0 accidents, with a lambda rate of 1.2\n",
    "\n",
    "poiss_pmf(0, 1.2)"
   ]
  },
  {
   "cell_type": "markdown",
   "id": "6abd5dd5",
   "metadata": {},
   "source": [
    "Above we can see that the pmf function returns as probability of 0.30, or about a 30% chance of a participant having no accidents. \n",
    "\n",
    "We defined a function to calculate the pmf for us above, this was largely to illustrate the equation that specifies the Poisson pmf. However, scipy already has a pmf method that we can use directly and this makes it easy to obtain probabilities such as the one above without coding our own functions. "
   ]
  },
  {
   "cell_type": "code",
   "execution_count": 10,
   "id": "caf012c8",
   "metadata": {},
   "outputs": [
    {
     "data": {
      "text/plain": [
       "0.30119421191220214"
      ]
     },
     "execution_count": 10,
     "metadata": {},
     "output_type": "execute_result"
    }
   ],
   "source": [
    "# Using the scipy pmf method. We are passing the same arguments as in our self-defined function.\n",
    "# Note: We get the same result. \n",
    "\n",
    "stats.poisson.pmf(0, 1.2)"
   ]
  },
  {
   "cell_type": "markdown",
   "id": "a228b958",
   "metadata": {},
   "source": [
    "As we created a dataset with a nicely rounded sample size of 100,000, the probability of observing 0 accidents (0.30) corresponds closely to the frequency count of 0's in our dataset (30,473), which represent 30% of our dataset. With a sample size that is very easy to divide by 10's, like this, we could have approximated this manually by putting our data on a scale from 0 to 1. This is known as normalisation and to do that with this size sample all we would have needed to do is divide through by the size of the sample (100,000). "
   ]
  },
  {
   "cell_type": "code",
   "execution_count": 11,
   "id": "161e0269",
   "metadata": {},
   "outputs": [
    {
     "data": {
      "text/plain": [
       "0.30473"
      ]
     },
     "execution_count": 11,
     "metadata": {},
     "output_type": "execute_result"
    }
   ],
   "source": [
    "# Dividing the number of 0 counts through by the sample size.\n",
    "# We can see the output is roughly 0.3 or 30%. It is not exactly the same as the pmf but that is to be expected as there\n",
    "# is always error in our data. Remember that the mean for the data was close to 1.2 but not exactly 1.2. \n",
    "30473 / 100000"
   ]
  },
  {
   "cell_type": "markdown",
   "id": "ce1b6162",
   "metadata": {},
   "source": [
    "We can also calculate the Cumulative Density Function (cdf) for the Poisson using the scipy cdf method. Recall from previous notebooks that the cdf is a continuous distribution function and therefore gives us probabilities between intervals. In the case of the cdf, this gives us the probability of observing a certain value or lower in our dataset. "
   ]
  },
  {
   "cell_type": "code",
   "execution_count": 12,
   "id": "73152834",
   "metadata": {},
   "outputs": [
    {
     "data": {
      "text/plain": [
       "0.8794870987836302"
      ]
     },
     "execution_count": 12,
     "metadata": {},
     "output_type": "execute_result"
    }
   ],
   "source": [
    "# The scipy cdf method takes the same arguments as the pmf. Here we can call it and see the probability of observing 2\n",
    "# or fewer accidents, given a rate/ year of 1.2 accidents. \n",
    "# We can see that there is about an 88% (p = 0.879) probability that someone will be in 2 or fewer accidents. \n",
    "\n",
    "stats.poisson.cdf(2, 1.2)"
   ]
  },
  {
   "cell_type": "markdown",
   "id": "021fa5b7",
   "metadata": {},
   "source": [
    "#### Summary:\n",
    "\n",
    "- The Poisson Distribution is a discrete probability distribution. It expresses the probability of a given number of events occurring in a fixed interval of time or space if these events occur with a known constant mean rate (lambda).\n",
    "- We can generate/ simulate data that follows a Poisson distribution using the scipy.poisson.rvs method. \n",
    "- We can then investigate the properties of our data visually and obtain probabilities of observing specific values using the pmf. \n",
    "- We can also use the cdf to obtain probabilities for intervals in our data, such as the probability of observing k events or fewer. "
   ]
  }
 ],
 "metadata": {
  "kernelspec": {
   "display_name": "Python 3 (ipykernel)",
   "language": "python",
   "name": "python3"
  },
  "language_info": {
   "codemirror_mode": {
    "name": "ipython",
    "version": 3
   },
   "file_extension": ".py",
   "mimetype": "text/x-python",
   "name": "python",
   "nbconvert_exporter": "python",
   "pygments_lexer": "ipython3",
   "version": "3.9.12"
  }
 },
 "nbformat": 4,
 "nbformat_minor": 5
}
