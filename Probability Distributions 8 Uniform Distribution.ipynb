{
 "cells": [
  {
   "cell_type": "markdown",
   "id": "c0c3b503",
   "metadata": {},
   "source": [
    "# Uniform Distribution\n",
    "\n",
    "\n",
    "The uniform distribution is a probability distribution where each value in a given range is equally likely to occur. This can be representative of many real world events or phenomena where no single outcome is likely to be seen or preferred over another. A simple example would be rolling a fair six-sided die. Each outcome (1, 2, 3, 4, 5, 6) is equally likely to occur with probability 1/6 and thereby follows a uniform distribution. \n",
    "\n",
    "In this notebook I will simulate some random data that follows a uniform distribution and then plot the distribution so we can visualise the shape of a probability density that follows a uniform distribution. All the bars will have the same density/ probability and be the same height. "
   ]
  },
  {
   "cell_type": "code",
   "execution_count": 1,
   "id": "5ce4f93b",
   "metadata": {},
   "outputs": [],
   "source": [
    "# Importing some key software libraries.\n",
    "\n",
    "import numpy as np\n",
    "import pandas as pd\n",
    "import scipy.stats as stats\n",
    "import matplotlib.pyplot as plt\n",
    "import seaborn as sns"
   ]
  },
  {
   "cell_type": "markdown",
   "id": "60c96a8b",
   "metadata": {},
   "source": [
    "I will generate some data that follows a uniform distribution. To do this I will make use of the scipy uniform methods and the scipy random variates (rvs) method. "
   ]
  },
  {
   "cell_type": "code",
   "execution_count": 2,
   "id": "0c7689f3",
   "metadata": {},
   "outputs": [],
   "source": [
    "# Generating data with 100,000 data points that follows a uniform distribution. \n",
    "# Note: loc = the starting value for the data. Scale = the end value for the data. These two parameters\n",
    "# give us the range of the data when specifying a uniform distribution. Recall that these arguments represented\n",
    "# different values for other distributions (e.g. mean, std). When specifying different distributions they will \n",
    "# represent the parameters needed to define that distribution. \n",
    "\n",
    "uniform_data = stats.uniform.rvs(size = 100000, loc = 0, scale = 10)\n",
    "\n",
    "# A uniform distribution of 100,000 datapoints in the range 0 to 10. "
   ]
  },
  {
   "cell_type": "code",
   "execution_count": 3,
   "id": "c3dfa4a5",
   "metadata": {},
   "outputs": [
    {
     "data": {
      "text/plain": [
       "<AxesSubplot:ylabel='Density'>"
      ]
     },
     "execution_count": 3,
     "metadata": {},
     "output_type": "execute_result"
    },
    {
     "data": {
      "image/png": "[encoded data removed]",
      "text/plain": [
       "<Figure size 648x648 with 1 Axes>"
      ]
     },
     "metadata": {
      "needs_background": "light"
     },
     "output_type": "display_data"
    }
   ],
   "source": [
    "# Having generated the data, I will next transform it into a pandas dataframe object and plot the distribution of the\n",
    "# data all in one line. \n",
    "\n",
    "pd.DataFrame(uniform_data).plot(kind = \"density\", figsize = (9,9), xlim = (-1,11))"
   ]
  },
  {
   "cell_type": "markdown",
   "id": "c4bd8f06",
   "metadata": {},
   "source": [
    "Above, it can be seen that any value in the range from 0 to 10 is likely to occur with probability 0.10. We plotted values between -1 and 11. These end two values are outside the range of the data so have a 0 probability of occuring. This rectangular type shape is representative of a uniform distribution.\n",
    "\n",
    "As with other probability distributions, we can investigate the uniform distribution and obtain probabilities of seeing given events. For example we can use the Cumulative Distribution Function (cdf) to obtain the probability of getting a certain value or lower on our dataset. For the data simulated above this is trivial as we have equally likely values between 0 and 10. \n",
    "\n",
    "For example, if we wanted to know the probability of getting 2.5 or lower we could use the scipy cdf method. "
   ]
  },
  {
   "cell_type": "code",
   "execution_count": 4,
   "id": "d1e4b07d",
   "metadata": {},
   "outputs": [
    {
     "data": {
      "text/plain": [
       "0.25"
      ]
     },
     "execution_count": 4,
     "metadata": {},
     "output_type": "execute_result"
    }
   ],
   "source": [
    "# Using the cdf to obtain the probability of observaing a value of 2.5 or less on the simulated data. \n",
    "# This is easy to calculate manually for this data as the range is from 0 to 10 and all values are equally likely, so\n",
    "# the probability will be about 25% (p = 0.25). However, below I demonstrate how to do this. \n",
    "# Here the argument x represents the quantile cutoff value we are interested in. \n",
    "\n",
    "stats.uniform.cdf(x=2.5, loc = 0, scale =10)\n",
    "\n",
    "# We can see this returns a probability of 0.25"
   ]
  },
  {
   "cell_type": "markdown",
   "id": "36916cd3",
   "metadata": {},
   "source": [
    "The Percent Point Function (ppf) is the inverse of the cdf. Given a certain probability it will tell us the actual value in the data that marks the cutoff for that probability. For, example if we wanted to know the cutoff value that represents the value for which 40% of the data fall below we can use the ppf. "
   ]
  },
  {
   "cell_type": "code",
   "execution_count": 5,
   "id": "06111b5b",
   "metadata": {},
   "outputs": [
    {
     "data": {
      "text/plain": [
       "4.0"
      ]
     },
     "execution_count": 5,
     "metadata": {},
     "output_type": "execute_result"
    }
   ],
   "source": [
    "# Using the ppf method from scipy to obtain a the value of the data for which 40% of observations are equal to or less than. \n",
    "# Again this is trivial with our given dataset example and the value 4 should represent the cutoff point for 40% of the data.\n",
    "# Here the argument q represents the quantile cutoff point. \n",
    "stats.uniform.ppf(q = 0.4, loc = 0, scale = 10)\n",
    "\n",
    "# The result is as expected 40% of the observations are less than or equal to the value 4. "
   ]
  },
  {
   "cell_type": "markdown",
   "id": "b4a4936f",
   "metadata": {},
   "source": [
    "#### Summary:\n",
    "\n",
    "- The uniform distribution models random events and processes where, however many possible outcomes there are, each is equally likely to occur. \n",
    "- Visualisation of uniform distribution follow a rectangular shape, where each value in the range is equally likely and anything outside the range of values has probaiblity 0. \n",
    "- The specific dataset we have generated here, for illustration purposes, has a short range containing only values from 0 to 10. For this uniform distribution each integer value in the data has a 0.1 or 10% probability of occuring. \n",
    "- We can obtain probabilities of observing a certain value or less in the dataset using the cdf and obtain the inverse, for a given probability the cutoff value in the dataset that this represents. \n",
    "- Obtaining probabilities, or the density of a specific value is trivial as all are equally likely. "
   ]
  }
 ],
 "metadata": {
  "kernelspec": {
   "display_name": "Python 3 (ipykernel)",
   "language": "python",
   "name": "python3"
  },
  "language_info": {
   "codemirror_mode": {
    "name": "ipython",
    "version": 3
   },
   "file_extension": ".py",
   "mimetype": "text/x-python",
   "name": "python",
   "nbconvert_exporter": "python",
   "pygments_lexer": "ipython3",
   "version": "3.9.12"
  }
 },
 "nbformat": 4,
 "nbformat_minor": 5
}
